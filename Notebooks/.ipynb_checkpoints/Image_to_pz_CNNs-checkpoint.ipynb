{
 "cells": [
  {
   "cell_type": "markdown",
   "id": "4e41624a-91c2-4819-8820-5f109c7bbec4",
   "metadata": {
    "tags": []
   },
   "source": [
    "# Pz estimation from images "
   ]
  },
  {
   "cell_type": "code",
   "execution_count": 1,
   "id": "8b902181-7f48-4515-9979-f5cbb827af10",
   "metadata": {},
   "outputs": [
    {
     "name": "stdout",
     "output_type": "stream",
     "text": [
      "SUCCESS: Found GPU: /device:GPU:0\n"
     ]
    },
    {
     "name": "stderr",
     "output_type": "stream",
     "text": [
      "2023-05-15 06:31:05.193072: I tensorflow/core/platform/cpu_feature_guard.cc:193] This TensorFlow binary is optimized with oneAPI Deep Neural Network Library (oneDNN) to use the following CPU instructions in performance-critical operations:  AVX2 FMA\n",
      "To enable them in other operations, rebuild TensorFlow with the appropriate compiler flags.\n",
      "2023-05-15 06:31:06.426278: I tensorflow/core/common_runtime/gpu/gpu_device.cc:1532] Created device /device:GPU:0 with 38219 MB memory:  -> device: 0, name: NVIDIA A100-PCIE-40GB, pci bus id: 0000:c3:00.0, compute capability: 8.0\n",
      "2023-05-15 06:31:06.440010: I tensorflow/core/common_runtime/gpu/gpu_device.cc:1532] Created device /device:GPU:0 with 38219 MB memory:  -> device: 0, name: NVIDIA A100-PCIE-40GB, pci bus id: 0000:c3:00.0, compute capability: 8.0\n"
     ]
    }
   ],
   "source": [
    "import tensorflow as tf\n",
    "\n",
    "#Checking for GPU access\n",
    "if tf.test.gpu_device_name() != '/device:GPU:0':\n",
    "  print('WARNING: GPU device not found.')\n",
    "else:\n",
    "  print('SUCCESS: Found GPU: {}'.format(tf.test.gpu_device_name()))"
   ]
  },
  {
   "cell_type": "code",
   "execution_count": 3,
   "id": "3e2b52da-0a2f-4d54-95ec-4491bebdaf4f",
   "metadata": {},
   "outputs": [],
   "source": [
    "import pandas as pd\n",
    "import numpy as np\n",
    "import matplotlib.pyplot as plt"
   ]
  },
  {
   "cell_type": "markdown",
   "id": "92a17751-b0d1-4016-b2dc-df3f6e771e9d",
   "metadata": {
    "tags": []
   },
   "source": [
    "# 1. Data preprocessing"
   ]
  },
  {
   "cell_type": "code",
   "execution_count": 4,
   "id": "12ab3d9b-4e56-448b-a48c-936e7eb47319",
   "metadata": {},
   "outputs": [
    {
     "name": "stdout",
     "output_type": "stream",
     "text": [
      "download  img_30k.npy  z_30k.npy\n"
     ]
    }
   ],
   "source": [
    "%ls /global/cfs/cdirs/lsst/groups/PZ/valentin_image_data_temp\n"
   ]
  },
  {
   "cell_type": "code",
   "execution_count": 5,
   "id": "263a19b5-ad17-404b-b95d-f54d2a27064f",
   "metadata": {},
   "outputs": [],
   "source": [
    "data = np.load('/global/cfs/cdirs/lsst/groups/PZ/valentin_image_data_temp/download')"
   ]
  },
  {
   "cell_type": "code",
   "execution_count": 6,
   "id": "1ab4b278-e2d1-4425-aac4-939d4e8bdcd8",
   "metadata": {},
   "outputs": [
    {
     "data": {
      "text/plain": [
       "numpy.lib.npyio.NpzFile"
      ]
     },
     "execution_count": 6,
     "metadata": {},
     "output_type": "execute_result"
    }
   ],
   "source": [
    "type(data)"
   ]
  },
  {
   "cell_type": "code",
   "execution_count": 7,
   "id": "f7a38588-8d41-4687-99a4-57b261160be0",
   "metadata": {},
   "outputs": [
    {
     "data": {
      "text/plain": [
       "['labels', 'cube']"
      ]
     },
     "execution_count": 7,
     "metadata": {},
     "output_type": "execute_result"
    }
   ],
   "source": [
    "data.files"
   ]
  },
  {
   "cell_type": "markdown",
   "id": "f2b8d2e5-9c70-4e12-ad4c-a018f795eaf7",
   "metadata": {},
   "source": [
    "### Labels"
   ]
  },
  {
   "cell_type": "code",
   "execution_count": 8,
   "id": "5cad3aa0-9bcd-47c2-9d76-202b94f14f6a",
   "metadata": {},
   "outputs": [
    {
     "data": {
      "text/plain": [
       "Index(['imageID', 'specObjID', 'bestObjID', 'class', 'subClass', 'z', 'zErr',\n",
       "       'objID', 'type', 'flags', 'ra', 'dec', 'l', 'b', 'dered_petro_u',\n",
       "       'dered_petro_g', 'dered_petro_r', 'dered_petro_i', 'dered_petro_z',\n",
       "       'petroMagErr_u', 'petroMagErr_g', 'petroMagErr_r', 'petroMagErr_i',\n",
       "       'petroMagErr_z', 'zphot', 'dzphot', 'zphot_avg', 'zphot_reliable',\n",
       "       'e_bv_sfd', 'primtarget', 'sectarget', 'targettype', 'spectrotype',\n",
       "       'Column1', 'v_disp', 'release', 'bptclass', 'lgm_tot_p50',\n",
       "       'sfr_tot_p50', 'specsfr_tot_p50', 'oh_p50', 'logMass_median',\n",
       "       'ssfr_mean', 'age_mean', 'tau_mean', 't_age_mean', 'metallicity_mean',\n",
       "       'dust1_mean', 'dust2_mean', 'EBV', 'fracDev_r', 'deVAB_r', 'deVPhi_r',\n",
       "       'expAB_r', 'expPhi_r', 'petroR90_r', 'deVRad_r', 'expRad_r',\n",
       "       'probPSF_r', 'extinction_u', 'extinction_g', 'extinction_r',\n",
       "       'extinction_i', 'extinction_z'],\n",
       "      dtype='object')"
      ]
     },
     "execution_count": 8,
     "metadata": {},
     "output_type": "execute_result"
    }
   ],
   "source": [
    "cat = pd.DataFrame(data[\"labels\"][:20000] )\n",
    "cat.columns"
   ]
  },
  {
   "cell_type": "code",
   "execution_count": 9,
   "id": "dd5866e2-775c-4560-ad79-141768cb44fd",
   "metadata": {},
   "outputs": [],
   "source": [
    "z = cat.z"
   ]
  },
  {
   "cell_type": "markdown",
   "id": "9d7ac15e-0228-479b-85ee-5c4fe410afdd",
   "metadata": {},
   "source": [
    "Les redshift sont relativement faibles dans cette base de données: 0 < z < 0.7"
   ]
  },
  {
   "cell_type": "code",
   "execution_count": 10,
   "id": "e0449fdf-9d03-4ab5-b0c0-ae316c9cc67e",
   "metadata": {},
   "outputs": [
    {
     "data": {
      "text/plain": [
       "(0.00018725298, 0.6729151)"
      ]
     },
     "execution_count": 10,
     "metadata": {},
     "output_type": "execute_result"
    }
   ],
   "source": [
    "cat.z.min(), cat.z.max()"
   ]
  },
  {
   "cell_type": "code",
   "execution_count": 11,
   "id": "d61b5ad1-e647-4fdb-8582-ebf6a3ff6ccc",
   "metadata": {},
   "outputs": [
    {
     "data": {
      "image/png": "[encoded data removed]",
      "text/plain": [
       "<Figure size 640x480 with 1 Axes>"
      ]
     },
     "metadata": {},
     "output_type": "display_data"
    }
   ],
   "source": [
    "plt.hist(cat.z, bins=100);"
   ]
  },
  {
   "cell_type": "markdown",
   "id": "31e3d8a9-3dfb-483f-ad35-831dcc44d06a",
   "metadata": {},
   "source": [
    "### Cube"
   ]
  },
  {
   "cell_type": "code",
   "execution_count": 12,
   "id": "b32e9f0c-5815-4892-a383-85581c490e50",
   "metadata": {},
   "outputs": [],
   "source": [
    "images = data['cube'][:20000]"
   ]
  },
  {
   "cell_type": "code",
   "execution_count": 13,
   "id": "fc972d68-d1f3-4e86-98f1-917bb68b8b62",
   "metadata": {},
   "outputs": [
    {
     "data": {
      "text/plain": [
       "(20000, 64, 64, 5)"
      ]
     },
     "execution_count": 13,
     "metadata": {},
     "output_type": "execute_result"
    }
   ],
   "source": [
    "images.shape"
   ]
  },
  {
   "cell_type": "code",
   "execution_count": 14,
   "id": "6e8ebdfe-8ddc-4a11-9660-55fe0972ab21",
   "metadata": {},
   "outputs": [
    {
     "name": "stderr",
     "output_type": "stream",
     "text": [
      "Clipping input data to the valid range for imshow with RGB data ([0..1] for floats or [0..255] for integers).\n"
     ]
    },
    {
     "data": {
      "image/png": "[encoded data removed]",
      "text/plain": [
       "<Figure size 640x480 with 1 Axes>"
      ]
     },
     "metadata": {},
     "output_type": "display_data"
    }
   ],
   "source": [
    "plt.imshow(images[0, :, :,2:5])\n",
    "plt.show();"
   ]
  },
  {
   "cell_type": "code",
   "execution_count": 15,
   "id": "334c80a2-065d-462b-b5b9-8badce4c77d7",
   "metadata": {},
   "outputs": [
    {
     "data": {
      "image/png": "[encoded data removed]",
      "text/plain": [
       "<Figure size 640x480 with 1 Axes>"
      ]
     },
     "metadata": {},
     "output_type": "display_data"
    }
   ],
   "source": [
    "for i,b in enumerate(['g', 'r', 'i', 'z', 'y']):\n",
    "    plt.hist(images[...,i].flatten(), 100, label=b, alpha=0.5)\n",
    "    plt.yscale('log');\n",
    "    plt.legend()"
   ]
  },
  {
   "cell_type": "markdown",
   "id": "6ec90548-c97b-457f-9fe0-c2e402d270a5",
   "metadata": {},
   "source": [
    "Need to standardize the data"
   ]
  },
  {
   "cell_type": "code",
   "execution_count": 16,
   "id": "9d2ac532-f14f-4f41-b088-0824078dbac6",
   "metadata": {},
   "outputs": [
    {
     "data": {
      "image/png": "[encoded data removed]",
      "text/plain": [
       "<Figure size 640x480 with 1 Axes>"
      ]
     },
     "metadata": {},
     "output_type": "display_data"
    }
   ],
   "source": [
    "# Let's evaluate the noise standard deviation in each band, and apply range \n",
    "# compression accordingly\n",
    "from astropy.stats import mad_std\n",
    "scaling = []\n",
    "for i,b in enumerate(['g', 'r', 'i', 'z', 'y']):\n",
    "    plt.hist(images[...,i].flatten(), 100, label=b, alpha=0.5, range=[-1,1]);\n",
    "    sigma = mad_std(images[...,i].flatten())\n",
    "    scaling.append(sigma)\n",
    "    plt.axvline(sigma, color='C%d'%i,alpha=0.5)\n",
    "    plt.axvline(-sigma, color='C%d'%i,alpha=0.5)\n",
    "    plt.legend()"
   ]
  },
  {
   "cell_type": "code",
   "execution_count": 17,
   "id": "75502c99-bbec-4b46-be47-cb0f630ce186",
   "metadata": {},
   "outputs": [
    {
     "data": {
      "text/plain": [
       "[0.027201450308288307,\n",
       " 0.015744658158159067,\n",
       " 0.026313249176732202,\n",
       " 0.04233410217981075,\n",
       " 0.13110988674491722]"
      ]
     },
     "execution_count": 17,
     "metadata": {},
     "output_type": "execute_result"
    }
   ],
   "source": [
    "scaling"
   ]
  },
  {
   "cell_type": "code",
   "execution_count": 18,
   "id": "b2deae33-5c6b-40ff-bc75-d46d561a5d77",
   "metadata": {},
   "outputs": [
    {
     "name": "stdout",
     "output_type": "stream",
     "text": [
      "[0.00767485 0.07113803 0.20978536 0.34144495 0.83912806]\n"
     ]
    }
   ],
   "source": [
    "from sklearn.preprocessing import StandardScaler\n",
    "scaling_std = []\n",
    "scaler = StandardScaler(with_mean=False)\n",
    "img = scaler.fit_transform(np.reshape(images, (20000*64*64, 5)))\n",
    "print(scaler.var_)"
   ]
  },
  {
   "cell_type": "code",
   "execution_count": 19,
   "id": "06d07c99-33a8-4a08-bf02-4095c7e05345",
   "metadata": {},
   "outputs": [
    {
     "data": {
      "image/png": "[encoded data removed]",
      "text/plain": [
       "<Figure size 640x480 with 1 Axes>"
      ]
     },
     "metadata": {},
     "output_type": "display_data"
    }
   ],
   "source": [
    "# Let's have a look at this distribution if we rescale each band by the standard deviation\n",
    "for i,b in enumerate(['g', 'r', 'i', 'z', 'y']):\n",
    "    plt.hist(images[...,i].flatten()/scaler.var_[i],100, label=b,alpha=0.5, range=[-10,10]);\n",
    "    plt.legend()"
   ]
  },
  {
   "cell_type": "code",
   "execution_count": 20,
   "id": "fcf60cbf-2dae-492b-a233-e3c505576e1b",
   "metadata": {},
   "outputs": [
    {
     "data": {
      "image/png": "[encoded data removed]",
      "text/plain": [
       "<Figure size 640x480 with 1 Axes>"
      ]
     },
     "metadata": {},
     "output_type": "display_data"
    }
   ],
   "source": [
    "# Let's have a look at this distribution if we rescale each band by the standard deviation\n",
    "for i,b in enumerate(['g', 'r', 'i', 'z', 'y']):\n",
    "    plt.hist(images[...,i].flatten()/scaling[i],100, label=b,alpha=0.5, range=[-10,10]);\n",
    "    plt.legend()"
   ]
  },
  {
   "cell_type": "code",
   "execution_count": 21,
   "id": "dc1c7ee4-05fe-4188-a7cd-2aafce0dd2a2",
   "metadata": {},
   "outputs": [
    {
     "data": {
      "image/png": "[encoded data removed]",
      "text/plain": [
       "<Figure size 640x480 with 1 Axes>"
      ]
     },
     "metadata": {},
     "output_type": "display_data"
    }
   ],
   "source": [
    "# a common approach for range compression is to apply arcsinh to suppress the high amplitude values\n",
    "for i,b in enumerate(['g', 'r', 'i', 'z', 'y']):\n",
    "    plt.hist(np.arcsinh(images[...,i].flatten()/scaler.var_[i]),100,label=b, alpha=0.5);\n",
    "plt.legend()\n",
    "plt.yscale('log')"
   ]
  },
  {
   "cell_type": "code",
   "execution_count": 22,
   "id": "8623379b-079f-4e6f-86cf-a027f07843e8",
   "metadata": {},
   "outputs": [],
   "source": [
    "def preprocessing(image):\n",
    "    return np.arcsinh(image / scaling / 3. )"
   ]
  },
  {
   "cell_type": "code",
   "execution_count": 23,
   "id": "f2d109a8-b2cf-4874-bd52-f14b0c386151",
   "metadata": {},
   "outputs": [],
   "source": [
    "prepro_img = preprocessing(images)"
   ]
  },
  {
   "cell_type": "code",
   "execution_count": 24,
   "id": "0403fe08-7e98-49ac-b69e-e0bb0ccd9833",
   "metadata": {},
   "outputs": [
    {
     "name": "stderr",
     "output_type": "stream",
     "text": [
      "2023-05-15 06:49:56.823336: I tensorflow/core/common_runtime/gpu/gpu_device.cc:1532] Created device /job:localhost/replica:0/task:0/device:GPU:0 with 38219 MB memory:  -> device: 0, name: NVIDIA A100-PCIE-40GB, pci bus id: 0000:c3:00.0, compute capability: 8.0\n"
     ]
    },
    {
     "data": {
      "text/plain": [
       "<matplotlib.legend.Legend at 0x7f80302ca430>"
      ]
     },
     "execution_count": 24,
     "metadata": {},
     "output_type": "execute_result"
    },
    {
     "data": {
      "image/png": "[encoded data removed]",
      "text/plain": [
       "<Figure size 640x480 with 1 Axes>"
      ]
     },
     "metadata": {},
     "output_type": "display_data"
    }
   ],
   "source": [
    "for i,b in enumerate(['g', 'r', 'i', 'z', 'y']):\n",
    "    plt.hist(tf.reshape(prepro_img[1000, :, :,i], -1), 100, label=b, alpha=0.5)\n",
    "    plt.yscale('log');\n",
    "plt.legend()"
   ]
  },
  {
   "cell_type": "markdown",
   "id": "0526bbb6-f23c-420f-9840-7d837803e4d2",
   "metadata": {},
   "source": [
    "### Train test split "
   ]
  },
  {
   "cell_type": "code",
   "execution_count": 25,
   "id": "116fe198-7e30-4b8a-b11c-a5c79e1c104c",
   "metadata": {},
   "outputs": [],
   "source": [
    "# Split into train and test taking 10,000 samples each\n",
    "img_train = prepro_img[:10000,...]\n",
    "img_test = prepro_img[10000:, ...]\n",
    "\n",
    "z_train = z[:10000]\n",
    "z_test = z[10000:]"
   ]
  },
  {
   "cell_type": "code",
   "execution_count": 26,
   "id": "7ebc42ec-38f8-4b7d-971c-b306ecc60b5c",
   "metadata": {},
   "outputs": [
    {
     "data": {
      "text/plain": [
       "(10000, 64, 64, 5)"
      ]
     },
     "execution_count": 26,
     "metadata": {},
     "output_type": "execute_result"
    }
   ],
   "source": [
    "img_train.shape"
   ]
  },
  {
   "cell_type": "markdown",
   "id": "40fd5411-7145-4348-8111-3c15235b885e",
   "metadata": {
    "tags": []
   },
   "source": [
    "# 2. CNN model"
   ]
  },
  {
   "cell_type": "code",
   "execution_count": 27,
   "id": "c841bd98-bedd-472a-a900-859d48e0955a",
   "metadata": {},
   "outputs": [],
   "source": [
    "import tensorflow.keras as tfk\n",
    "\n",
    "def create_model():\n",
    "    model = tfk.models.Sequential()\n",
    "    \n",
    "    model.add(tfk.layers.Conv2D(32, kernel_size=5, padding='same', input_shape=(64,64,5), activation='elu', strides=2))\n",
    "    model.add(tfk.layers.BatchNormalization())\n",
    "\n",
    "    model.add(tfk.layers.Conv2D(64, kernel_size=3, padding='same', activation='elu'))\n",
    "    model.add(tfk.layers.BatchNormalization())\n",
    "\n",
    "    model.add(tfk.layers.Conv2D(128, kernel_size=3, padding='same', strides=2, activation='elu'))\n",
    "    model.add(tfk.layers.BatchNormalization())  \n",
    "\n",
    "    model.add(tfk.layers.Conv2D(256, kernel_size=3, padding='same', activation='elu', strides=2))\n",
    "    model.add(tfk.layers.BatchNormalization())\n",
    "\n",
    "    model.add(tfk.layers.Conv2D(512, kernel_size=3, padding='same', activation='elu', strides=2))\n",
    "    model.add(tfk.layers.BatchNormalization())\n",
    "    \n",
    "    # remplacer flatten par global pooling potentiellment moins d'overfit\n",
    "    model.add(tfk.layers.Flatten())\n",
    "    model.add(tfk.layers.Dense(1024))\n",
    "    model.add(tfk.layers.Activation('relu'))\n",
    "    model.add(tfk.layers.Dense(1024))\n",
    "    model.add(tfk.layers.Activation('relu'))\n",
    "    model.add(tfk.layers.Dense(1))\n",
    "\n",
    "    model.compile(optimizer='adam', # learning rate will be set by LearningRateScheduler\n",
    "                loss=tfk.metrics.mse)\n",
    "    return model"
   ]
  },
  {
   "cell_type": "code",
   "execution_count": 28,
   "id": "2f1a9d5c-6935-4f7f-8fc5-dd1fab03dca5",
   "metadata": {},
   "outputs": [],
   "source": [
    "model = create_model()"
   ]
  },
  {
   "cell_type": "code",
   "execution_count": 29,
   "id": "9c483bde-c708-4d91-b451-4985a51d9432",
   "metadata": {},
   "outputs": [
    {
     "name": "stdout",
     "output_type": "stream",
     "text": [
      "Model: \"sequential\"\n",
      "_________________________________________________________________\n",
      " Layer (type)                Output Shape              Param #   \n",
      "=================================================================\n",
      " conv2d (Conv2D)             (None, 32, 32, 32)        4032      \n",
      "                                                                 \n",
      " batch_normalization (BatchN  (None, 32, 32, 32)       128       \n",
      " ormalization)                                                   \n",
      "                                                                 \n",
      " conv2d_1 (Conv2D)           (None, 32, 32, 64)        18496     \n",
      "                                                                 \n",
      " batch_normalization_1 (Batc  (None, 32, 32, 64)       256       \n",
      " hNormalization)                                                 \n",
      "                                                                 \n",
      " conv2d_2 (Conv2D)           (None, 16, 16, 128)       73856     \n",
      "                                                                 \n",
      " batch_normalization_2 (Batc  (None, 16, 16, 128)      512       \n",
      " hNormalization)                                                 \n",
      "                                                                 \n",
      " conv2d_3 (Conv2D)           (None, 8, 8, 256)         295168    \n",
      "                                                                 \n",
      " batch_normalization_3 (Batc  (None, 8, 8, 256)        1024      \n",
      " hNormalization)                                                 \n",
      "                                                                 \n",
      " conv2d_4 (Conv2D)           (None, 4, 4, 512)         1180160   \n",
      "                                                                 \n",
      " batch_normalization_4 (Batc  (None, 4, 4, 512)        2048      \n",
      " hNormalization)                                                 \n",
      "                                                                 \n",
      " flatten (Flatten)           (None, 8192)              0         \n",
      "                                                                 \n",
      " dense (Dense)               (None, 1024)              8389632   \n",
      "                                                                 \n",
      " activation (Activation)     (None, 1024)              0         \n",
      "                                                                 \n",
      " dense_1 (Dense)             (None, 1024)              1049600   \n",
      "                                                                 \n",
      " activation_1 (Activation)   (None, 1024)              0         \n",
      "                                                                 \n",
      " dense_2 (Dense)             (None, 1)                 1025      \n",
      "                                                                 \n",
      "=================================================================\n",
      "Total params: 11,015,937\n",
      "Trainable params: 11,013,953\n",
      "Non-trainable params: 1,984\n",
      "_________________________________________________________________\n"
     ]
    }
   ],
   "source": [
    "model.summary()"
   ]
  },
  {
   "cell_type": "code",
   "execution_count": 30,
   "id": "ac170353-fafa-44d5-aa7e-3623d8dd98b2",
   "metadata": {},
   "outputs": [
    {
     "name": "stdout",
     "output_type": "stream",
     "text": [
      "Epoch 1/40\n"
     ]
    },
    {
     "name": "stderr",
     "output_type": "stream",
     "text": [
      "2023-05-15 06:50:06.162133: I tensorflow/stream_executor/cuda/cuda_dnn.cc:384] Loaded cuDNN version 8302\n",
      "2023-05-15 06:50:08.506020: I tensorflow/stream_executor/cuda/cuda_blas.cc:1786] TensorFloat-32 will be used for the matrix multiplication. This will only be logged once.\n"
     ]
    },
    {
     "name": "stdout",
     "output_type": "stream",
     "text": [
      "156/156 [==============================] - 8s 21ms/step - loss: 6.8977 - val_loss: 0.0077 - lr: 0.0010\n",
      "Epoch 2/40\n",
      "156/156 [==============================] - 1s 9ms/step - loss: 0.0082 - val_loss: 0.0051 - lr: 9.0000e-04\n",
      "Epoch 3/40\n",
      "156/156 [==============================] - 2s 10ms/step - loss: 0.0088 - val_loss: 0.0050 - lr: 8.1000e-04\n",
      "Epoch 4/40\n",
      "156/156 [==============================] - 1s 9ms/step - loss: 0.0037 - val_loss: 0.0041 - lr: 7.2900e-04\n",
      "Epoch 5/40\n",
      "156/156 [==============================] - 1s 9ms/step - loss: 0.0019 - val_loss: 0.0035 - lr: 6.5610e-04\n",
      "Epoch 6/40\n",
      "156/156 [==============================] - 2s 12ms/step - loss: 0.0012 - val_loss: 0.0037 - lr: 5.9049e-04\n",
      "Epoch 7/40\n",
      "156/156 [==============================] - 1s 9ms/step - loss: 0.0010 - val_loss: 0.0037 - lr: 5.3144e-04\n",
      "Epoch 8/40\n",
      "156/156 [==============================] - 1s 9ms/step - loss: 7.4762e-04 - val_loss: 0.0034 - lr: 4.7830e-04\n",
      "Epoch 9/40\n",
      "156/156 [==============================] - 1s 9ms/step - loss: 6.1350e-04 - val_loss: 0.0033 - lr: 4.3047e-04\n",
      "Epoch 10/40\n",
      "156/156 [==============================] - 2s 10ms/step - loss: 5.5504e-04 - val_loss: 0.0034 - lr: 3.8742e-04\n",
      "Epoch 11/40\n",
      "156/156 [==============================] - 2s 10ms/step - loss: 5.0956e-04 - val_loss: 0.0034 - lr: 3.4868e-04\n",
      "Epoch 12/40\n",
      "156/156 [==============================] - 2s 10ms/step - loss: 4.4138e-04 - val_loss: 0.0034 - lr: 3.1381e-04\n",
      "Epoch 13/40\n",
      "156/156 [==============================] - 2s 10ms/step - loss: 3.5964e-04 - val_loss: 0.0034 - lr: 2.8243e-04\n",
      "Epoch 14/40\n",
      "156/156 [==============================] - 1s 9ms/step - loss: 3.0001e-04 - val_loss: 0.0034 - lr: 2.5419e-04\n",
      "Epoch 15/40\n",
      "156/156 [==============================] - 2s 10ms/step - loss: 2.7390e-04 - val_loss: 0.0036 - lr: 2.2877e-04\n",
      "Epoch 16/40\n",
      "156/156 [==============================] - 2s 10ms/step - loss: 2.6017e-04 - val_loss: 0.0034 - lr: 2.0589e-04\n",
      "Epoch 17/40\n",
      "156/156 [==============================] - 1s 9ms/step - loss: 2.1032e-04 - val_loss: 0.0034 - lr: 1.8530e-04\n",
      "Epoch 18/40\n",
      "156/156 [==============================] - 1s 9ms/step - loss: 1.9712e-04 - val_loss: 0.0035 - lr: 1.6677e-04\n",
      "Epoch 19/40\n",
      "156/156 [==============================] - 1s 9ms/step - loss: 1.8848e-04 - val_loss: 0.0034 - lr: 1.5009e-04\n",
      "Epoch 20/40\n",
      "156/156 [==============================] - 1s 10ms/step - loss: 1.6385e-04 - val_loss: 0.0034 - lr: 1.3509e-04\n",
      "Epoch 21/40\n",
      "156/156 [==============================] - 2s 10ms/step - loss: 1.5492e-04 - val_loss: 0.0034 - lr: 1.2158e-04\n",
      "Epoch 22/40\n",
      "156/156 [==============================] - 2s 10ms/step - loss: 1.6115e-04 - val_loss: 0.0034 - lr: 1.0942e-04\n",
      "Epoch 23/40\n",
      "156/156 [==============================] - 2s 10ms/step - loss: 1.3408e-04 - val_loss: 0.0035 - lr: 9.8477e-05\n",
      "Epoch 24/40\n",
      "156/156 [==============================] - 1s 9ms/step - loss: 1.3764e-04 - val_loss: 0.0035 - lr: 8.8629e-05\n",
      "Epoch 25/40\n",
      "156/156 [==============================] - 1s 10ms/step - loss: 1.2483e-04 - val_loss: 0.0035 - lr: 7.9766e-05\n",
      "Epoch 26/40\n",
      "156/156 [==============================] - 2s 10ms/step - loss: 1.3269e-04 - val_loss: 0.0035 - lr: 7.1790e-05\n",
      "Epoch 27/40\n",
      "156/156 [==============================] - 1s 10ms/step - loss: 1.0819e-04 - val_loss: 0.0035 - lr: 6.4611e-05\n",
      "Epoch 28/40\n",
      "156/156 [==============================] - 2s 10ms/step - loss: 1.1532e-04 - val_loss: 0.0035 - lr: 5.8150e-05\n",
      "Epoch 29/40\n",
      "156/156 [==============================] - 1s 9ms/step - loss: 1.1002e-04 - val_loss: 0.0035 - lr: 5.2335e-05\n",
      "Epoch 30/40\n",
      "156/156 [==============================] - 1s 9ms/step - loss: 9.6019e-05 - val_loss: 0.0035 - lr: 4.7101e-05\n",
      "Epoch 31/40\n",
      "156/156 [==============================] - 1s 9ms/step - loss: 1.0711e-04 - val_loss: 0.0036 - lr: 4.2391e-05\n",
      "Epoch 32/40\n",
      "156/156 [==============================] - 2s 10ms/step - loss: 1.0196e-04 - val_loss: 0.0035 - lr: 3.8152e-05\n",
      "Epoch 33/40\n",
      "156/156 [==============================] - 1s 9ms/step - loss: 9.5700e-05 - val_loss: 0.0035 - lr: 3.4337e-05\n",
      "Epoch 34/40\n",
      "156/156 [==============================] - 1s 9ms/step - loss: 9.5724e-05 - val_loss: 0.0035 - lr: 3.0903e-05\n",
      "Epoch 35/40\n",
      "156/156 [==============================] - 1s 9ms/step - loss: 8.7042e-05 - val_loss: 0.0035 - lr: 2.7813e-05\n",
      "Epoch 36/40\n",
      "156/156 [==============================] - 1s 9ms/step - loss: 8.5177e-05 - val_loss: 0.0035 - lr: 2.5032e-05\n",
      "Epoch 37/40\n",
      "156/156 [==============================] - 1s 9ms/step - loss: 8.2994e-05 - val_loss: 0.0035 - lr: 2.2528e-05\n",
      "Epoch 38/40\n",
      "156/156 [==============================] - 1s 9ms/step - loss: 7.6511e-05 - val_loss: 0.0035 - lr: 2.0276e-05\n",
      "Epoch 39/40\n",
      "156/156 [==============================] - 1s 9ms/step - loss: 6.9668e-05 - val_loss: 0.0035 - lr: 1.8248e-05\n",
      "Epoch 40/40\n",
      "156/156 [==============================] - 1s 9ms/step - loss: 7.5865e-05 - val_loss: 0.0035 - lr: 1.6423e-05\n"
     ]
    },
    {
     "data": {
      "text/plain": [
       "<keras.callbacks.History at 0x7f80300f1250>"
      ]
     },
     "execution_count": 30,
     "metadata": {},
     "output_type": "execute_result"
    }
   ],
   "source": [
    "# Learning rate schedule\n",
    "LEARNING_RATE=0.001\n",
    "LEARNING_RATE_EXP_DECAY=0.9\n",
    "lr_decay = tfk.callbacks.LearningRateScheduler(\n",
    "    lambda epoch: LEARNING_RATE * LEARNING_RATE_EXP_DECAY**epoch)\n",
    "\n",
    "# Tensoboard tracking\n",
    "#tb_callback = tf.keras.callbacks.TensorBoard('./logs/CNN', update_freq='batch')\n",
    "\n",
    "model.fit(x = img_train, \n",
    "          y = z_train,\n",
    "          batch_size = 64,\n",
    "          validation_data=(img_test, z_test),\n",
    "          steps_per_epoch=10000//64,\n",
    "          epochs=40,\n",
    "          callbacks=[lr_decay])"
   ]
  },
  {
   "cell_type": "code",
   "execution_count": 31,
   "id": "eeb15182-abbd-4331-8295-c9c8faac36f2",
   "metadata": {},
   "outputs": [
    {
     "name": "stdout",
     "output_type": "stream",
     "text": [
      "313/313 [==============================] - 1s 2ms/step\n"
     ]
    }
   ],
   "source": [
    "# Get the prediction\n",
    "preds = model.predict(img_test)"
   ]
  },
  {
   "cell_type": "code",
   "execution_count": 32,
   "id": "144758c5-703b-4aa1-a44f-3e363bdb09c0",
   "metadata": {},
   "outputs": [
    {
     "data": {
      "image/png": "[encoded data removed]",
      "text/plain": [
       "<Figure size 640x480 with 1 Axes>"
      ]
     },
     "metadata": {},
     "output_type": "display_data"
    }
   ],
   "source": [
    "plt.hist2d(z_test, preds.squeeze(), 64, range=[[0,0.7],[0,0.7]], cmap='gist_stern'); \n",
    "plt.gca().set_aspect('equal');\n",
    "plt.plot([0,0.7],[0,0.7],color='r')\n",
    "plt.xlabel('Spectroscopic Redshift')\n",
    "plt.ylabel('Predicted Redshift');"
   ]
  },
  {
   "cell_type": "code",
   "execution_count": 35,
   "id": "9d5c718a-2602-4bf0-ad6f-5fc8b19d4ae4",
   "metadata": {},
   "outputs": [
    {
     "name": "stdout",
     "output_type": "stream",
     "text": [
      "Prediction bias: -0.0036\n"
     ]
    },
    {
     "data": {
      "text/latex": [
       "$\\sigma MAD$: 0.0438"
      ],
      "text/plain": [
       "<IPython.core.display.Latex object>"
      ]
     },
     "metadata": {},
     "output_type": "display_data"
    },
    {
     "name": "stdout",
     "output_type": "stream",
     "text": [
      "Outlier fraction: 26.64%\n"
     ]
    }
   ],
   "source": [
    "from tools import *\n",
    "dz, pred_bias, smad, out_frac = metrics(z_test, preds.squeeze())\n",
    "\n",
    "\n",
    "def print_metrics(pred_bias, smad, out_frac):\n",
    "    print(f'Prediction bias: {pred_bias:.4f}')\n",
    "    display(Latex(f'$\\sigma MAD$: {smad:.4f}'))\n",
    "    print(f'Outlier fraction: {out_frac*100:.2f}%')\n",
    "    \n",
    "print_metrics(pred_bias, smad, out_frac)"
   ]
  },
  {
   "cell_type": "markdown",
   "id": "5aba3521-a5fa-4ccf-b1b6-93aafecc0a8e",
   "metadata": {
    "jp-MarkdownHeadingCollapsed": true,
    "tags": []
   },
   "source": [
    "# 3. ResNet"
   ]
  },
  {
   "cell_type": "code",
   "execution_count": 193,
   "id": "ab5f1896-b1fc-41ca-83dd-65e9827f97aa",
   "metadata": {},
   "outputs": [],
   "source": [
    "from tensorflow.keras.applications import ResNet50\n",
    "\n",
    "def resnet_model():\n",
    "\n",
    "    model = tfk.models.Sequential()\n",
    "\n",
    "    model.add(ResNet50(include_top = False,\n",
    "                     pooling = 'avg',\n",
    "                     input_shape=(64,64,5),\n",
    "                     weights=None))\n",
    "\n",
    "    model.add(tfk.layers.Flatten())\n",
    "    model.add(tfk.layers.Dense(512))\n",
    "    model.add(tfk.layers.Activation('relu'))\n",
    "    model.add(tfk.layers.Dense(256))\n",
    "    model.add(tfk.layers.Activation('relu'))\n",
    "    model.add(tfk.layers.Dense(1))\n",
    "\n",
    "    model.compile(optimizer='adam', # learning rate will be set by LearningRateScheduler\n",
    "                loss=tfk.metrics.mse)\n",
    "    return model"
   ]
  },
  {
   "cell_type": "code",
   "execution_count": 194,
   "id": "4062bdee-1a7b-4d32-981d-27b381c46300",
   "metadata": {},
   "outputs": [
    {
     "name": "stdout",
     "output_type": "stream",
     "text": [
      "Model: \"sequential_20\"\n",
      "_________________________________________________________________\n",
      " Layer (type)                Output Shape              Param #   \n",
      "=================================================================\n",
      " resnet50 (Functional)       (None, 2048)              23593984  \n",
      "                                                                 \n",
      " flatten_20 (Flatten)        (None, 2048)              0         \n",
      "                                                                 \n",
      " dense_60 (Dense)            (None, 512)               1049088   \n",
      "                                                                 \n",
      " activation_40 (Activation)  (None, 512)               0         \n",
      "                                                                 \n",
      " dense_61 (Dense)            (None, 256)               131328    \n",
      "                                                                 \n",
      " activation_41 (Activation)  (None, 256)               0         \n",
      "                                                                 \n",
      " dense_62 (Dense)            (None, 1)                 257       \n",
      "                                                                 \n",
      "=================================================================\n",
      "Total params: 24,774,657\n",
      "Trainable params: 24,721,537\n",
      "Non-trainable params: 53,120\n",
      "_________________________________________________________________\n"
     ]
    }
   ],
   "source": [
    "model_resnet = resnet_model()\n",
    "\n",
    "model_resnet.summary()"
   ]
  },
  {
   "cell_type": "code",
   "execution_count": 195,
   "id": "b50cbde5-b0a7-4a29-a4ac-67922573da0b",
   "metadata": {},
   "outputs": [
    {
     "name": "stdout",
     "output_type": "stream",
     "text": [
      "\n",
      "Epoch 1: LearningRateScheduler setting learning rate to 0.0001.\n",
      "Epoch 1/200\n",
      "156/156 [==============================] - 9s 37ms/step - loss: 0.1516 - val_loss: 0.0118 - lr: 1.0000e-04\n",
      "\n",
      "Epoch 2: LearningRateScheduler setting learning rate to 9e-05.\n",
      "Epoch 2/200\n",
      "156/156 [==============================] - 4s 28ms/step - loss: 0.0264 - val_loss: 0.0139 - lr: 9.0000e-05\n",
      "\n",
      "Epoch 3: LearningRateScheduler setting learning rate to 8.1e-05.\n",
      "Epoch 3/200\n",
      "156/156 [==============================] - 4s 29ms/step - loss: 0.0145 - val_loss: 0.0086 - lr: 8.1000e-05\n",
      "\n",
      "Epoch 4: LearningRateScheduler setting learning rate to 7.290000000000001e-05.\n",
      "Epoch 4/200\n",
      "156/156 [==============================] - 4s 29ms/step - loss: 0.0123 - val_loss: 0.0112 - lr: 7.2900e-05\n",
      "\n",
      "Epoch 5: LearningRateScheduler setting learning rate to 6.561e-05.\n",
      "Epoch 5/200\n",
      "156/156 [==============================] - 4s 28ms/step - loss: 0.0095 - val_loss: 0.0109 - lr: 6.5610e-05\n",
      "\n",
      "Epoch 6: LearningRateScheduler setting learning rate to 5.904900000000001e-05.\n",
      "Epoch 6/200\n",
      "156/156 [==============================] - 4s 28ms/step - loss: 0.0073 - val_loss: 0.0099 - lr: 5.9049e-05\n",
      "\n",
      "Epoch 7: LearningRateScheduler setting learning rate to 5.3144100000000005e-05.\n",
      "Epoch 7/200\n",
      "156/156 [==============================] - 4s 28ms/step - loss: 0.0065 - val_loss: 0.0090 - lr: 5.3144e-05\n",
      "\n",
      "Epoch 8: LearningRateScheduler setting learning rate to 4.782969000000001e-05.\n",
      "Epoch 8/200\n",
      "156/156 [==============================] - 4s 29ms/step - loss: 0.0059 - val_loss: 0.0074 - lr: 4.7830e-05\n",
      "\n",
      "Epoch 9: LearningRateScheduler setting learning rate to 4.304672100000001e-05.\n",
      "Epoch 9/200\n",
      "156/156 [==============================] - 4s 29ms/step - loss: 0.0053 - val_loss: 0.0059 - lr: 4.3047e-05\n",
      "\n",
      "Epoch 10: LearningRateScheduler setting learning rate to 3.874204890000001e-05.\n",
      "Epoch 10/200\n",
      "156/156 [==============================] - 5s 30ms/step - loss: 0.0047 - val_loss: 0.0058 - lr: 3.8742e-05\n",
      "\n",
      "Epoch 11: LearningRateScheduler setting learning rate to 3.486784401000001e-05.\n",
      "Epoch 11/200\n",
      "156/156 [==============================] - 4s 28ms/step - loss: 0.0043 - val_loss: 0.0058 - lr: 3.4868e-05\n",
      "\n",
      "Epoch 12: LearningRateScheduler setting learning rate to 3.138105960900001e-05.\n",
      "Epoch 12/200\n",
      "156/156 [==============================] - 4s 29ms/step - loss: 0.0040 - val_loss: 0.0050 - lr: 3.1381e-05\n",
      "\n",
      "Epoch 13: LearningRateScheduler setting learning rate to 2.824295364810001e-05.\n",
      "Epoch 13/200\n",
      "156/156 [==============================] - 4s 29ms/step - loss: 0.0038 - val_loss: 0.0052 - lr: 2.8243e-05\n",
      "\n",
      "Epoch 14: LearningRateScheduler setting learning rate to 2.541865828329001e-05.\n",
      "Epoch 14/200\n",
      "156/156 [==============================] - 4s 28ms/step - loss: 0.0035 - val_loss: 0.0056 - lr: 2.5419e-05\n",
      "\n",
      "Epoch 15: LearningRateScheduler setting learning rate to 2.287679245496101e-05.\n",
      "Epoch 15/200\n",
      "156/156 [==============================] - 4s 28ms/step - loss: 0.0034 - val_loss: 0.0057 - lr: 2.2877e-05\n",
      "\n",
      "Epoch 16: LearningRateScheduler setting learning rate to 2.0589113209464907e-05.\n",
      "Epoch 16/200\n",
      "156/156 [==============================] - 4s 29ms/step - loss: 0.0031 - val_loss: 0.0049 - lr: 2.0589e-05\n",
      "\n",
      "Epoch 17: LearningRateScheduler setting learning rate to 1.8530201888518416e-05.\n",
      "Epoch 17/200\n",
      "156/156 [==============================] - 5s 30ms/step - loss: 0.0032 - val_loss: 0.0047 - lr: 1.8530e-05\n",
      "\n",
      "Epoch 18: LearningRateScheduler setting learning rate to 1.6677181699666577e-05.\n",
      "Epoch 18/200\n",
      "156/156 [==============================] - 5s 30ms/step - loss: 0.0029 - val_loss: 0.0048 - lr: 1.6677e-05\n",
      "\n",
      "Epoch 19: LearningRateScheduler setting learning rate to 1.5009463529699919e-05.\n",
      "Epoch 19/200\n",
      "156/156 [==============================] - 5s 29ms/step - loss: 0.0028 - val_loss: 0.0042 - lr: 1.5009e-05\n",
      "\n",
      "Epoch 20: LearningRateScheduler setting learning rate to 1.3508517176729929e-05.\n",
      "Epoch 20/200\n",
      "156/156 [==============================] - 5s 30ms/step - loss: 0.0027 - val_loss: 0.0045 - lr: 1.3509e-05\n",
      "\n",
      "Epoch 21: LearningRateScheduler setting learning rate to 1.2157665459056936e-05.\n",
      "Epoch 21/200\n",
      "156/156 [==============================] - 5s 30ms/step - loss: 0.0025 - val_loss: 0.0041 - lr: 1.2158e-05\n",
      "\n",
      "Epoch 22: LearningRateScheduler setting learning rate to 1.0941898913151242e-05.\n",
      "Epoch 22/200\n",
      "156/156 [==============================] - 5s 32ms/step - loss: 0.0024 - val_loss: 0.0042 - lr: 1.0942e-05\n",
      "\n",
      "Epoch 23: LearningRateScheduler setting learning rate to 9.847709021836118e-06.\n",
      "Epoch 23/200\n",
      "156/156 [==============================] - 5s 29ms/step - loss: 0.0024 - val_loss: 0.0041 - lr: 9.8477e-06\n",
      "\n",
      "Epoch 24: LearningRateScheduler setting learning rate to 8.862938119652508e-06.\n",
      "Epoch 24/200\n",
      "156/156 [==============================] - 4s 29ms/step - loss: 0.0024 - val_loss: 0.0040 - lr: 8.8629e-06\n",
      "\n",
      "Epoch 25: LearningRateScheduler setting learning rate to 7.976644307687255e-06.\n",
      "Epoch 25/200\n",
      "156/156 [==============================] - 4s 28ms/step - loss: 0.0024 - val_loss: 0.0043 - lr: 7.9766e-06\n",
      "\n",
      "Epoch 26: LearningRateScheduler setting learning rate to 7.178979876918531e-06.\n",
      "Epoch 26/200\n",
      "156/156 [==============================] - 5s 30ms/step - loss: 0.0023 - val_loss: 0.0041 - lr: 7.1790e-06\n",
      "\n",
      "Epoch 27: LearningRateScheduler setting learning rate to 6.4610818892266776e-06.\n",
      "Epoch 27/200\n",
      "156/156 [==============================] - 5s 31ms/step - loss: 0.0022 - val_loss: 0.0039 - lr: 6.4611e-06\n",
      "\n",
      "Epoch 28: LearningRateScheduler setting learning rate to 5.8149737003040096e-06.\n",
      "Epoch 28/200\n",
      "156/156 [==============================] - 5s 29ms/step - loss: 0.0021 - val_loss: 0.0039 - lr: 5.8150e-06\n",
      "\n",
      "Epoch 29: LearningRateScheduler setting learning rate to 5.23347633027361e-06.\n",
      "Epoch 29/200\n",
      "156/156 [==============================] - 5s 29ms/step - loss: 0.0022 - val_loss: 0.0041 - lr: 5.2335e-06\n",
      "\n",
      "Epoch 30: LearningRateScheduler setting learning rate to 4.710128697246249e-06.\n",
      "Epoch 30/200\n",
      "156/156 [==============================] - 4s 29ms/step - loss: 0.0021 - val_loss: 0.0039 - lr: 4.7101e-06\n",
      "\n",
      "Epoch 31: LearningRateScheduler setting learning rate to 4.239115827521624e-06.\n",
      "Epoch 31/200\n",
      "156/156 [==============================] - 4s 29ms/step - loss: 0.0021 - val_loss: 0.0038 - lr: 4.2391e-06\n",
      "\n",
      "Epoch 32: LearningRateScheduler setting learning rate to 3.815204244769462e-06.\n",
      "Epoch 32/200\n",
      "156/156 [==============================] - 4s 29ms/step - loss: 0.0020 - val_loss: 0.0039 - lr: 3.8152e-06\n",
      "\n",
      "Epoch 33: LearningRateScheduler setting learning rate to 3.4336838202925152e-06.\n",
      "Epoch 33/200\n",
      "156/156 [==============================] - 4s 28ms/step - loss: 0.0019 - val_loss: 0.0040 - lr: 3.4337e-06\n",
      "\n",
      "Epoch 34: LearningRateScheduler setting learning rate to 3.090315438263264e-06.\n",
      "Epoch 34/200\n",
      "156/156 [==============================] - 4s 28ms/step - loss: 0.0019 - val_loss: 0.0039 - lr: 3.0903e-06\n",
      "\n",
      "Epoch 35: LearningRateScheduler setting learning rate to 2.7812838944369375e-06.\n",
      "Epoch 35/200\n",
      "156/156 [==============================] - 4s 28ms/step - loss: 0.0020 - val_loss: 0.0039 - lr: 2.7813e-06\n",
      "\n",
      "Epoch 36: LearningRateScheduler setting learning rate to 2.503155504993244e-06.\n",
      "Epoch 36/200\n",
      "156/156 [==============================] - 4s 28ms/step - loss: 0.0018 - val_loss: 0.0038 - lr: 2.5032e-06\n",
      "\n",
      "Epoch 37: LearningRateScheduler setting learning rate to 2.2528399544939195e-06.\n",
      "Epoch 37/200\n",
      "156/156 [==============================] - 4s 29ms/step - loss: 0.0018 - val_loss: 0.0037 - lr: 2.2528e-06\n",
      "\n",
      "Epoch 38: LearningRateScheduler setting learning rate to 2.0275559590445276e-06.\n",
      "Epoch 38/200\n",
      "156/156 [==============================] - 5s 29ms/step - loss: 0.0018 - val_loss: 0.0037 - lr: 2.0276e-06\n",
      "\n",
      "Epoch 39: LearningRateScheduler setting learning rate to 1.8248003631400751e-06.\n",
      "Epoch 39/200\n",
      "156/156 [==============================] - 4s 29ms/step - loss: 0.0018 - val_loss: 0.0037 - lr: 1.8248e-06\n",
      "\n",
      "Epoch 40: LearningRateScheduler setting learning rate to 1.6423203268260676e-06.\n",
      "Epoch 40/200\n",
      "156/156 [==============================] - 4s 28ms/step - loss: 0.0018 - val_loss: 0.0037 - lr: 1.6423e-06\n",
      "\n",
      "Epoch 41: LearningRateScheduler setting learning rate to 1.4780882941434609e-06.\n",
      "Epoch 41/200\n",
      "156/156 [==============================] - 4s 28ms/step - loss: 0.0017 - val_loss: 0.0037 - lr: 1.4781e-06\n",
      "\n",
      "Epoch 42: LearningRateScheduler setting learning rate to 1.3302794647291146e-06.\n",
      "Epoch 42/200\n",
      "156/156 [==============================] - 4s 28ms/step - loss: 0.0017 - val_loss: 0.0037 - lr: 1.3303e-06\n",
      "\n",
      "Epoch 43: LearningRateScheduler setting learning rate to 1.1972515182562034e-06.\n",
      "Epoch 43/200\n",
      "156/156 [==============================] - 4s 28ms/step - loss: 0.0017 - val_loss: 0.0037 - lr: 1.1973e-06\n",
      "\n",
      "Epoch 44: LearningRateScheduler setting learning rate to 1.077526366430583e-06.\n",
      "Epoch 44/200\n",
      "156/156 [==============================] - 4s 28ms/step - loss: 0.0017 - val_loss: 0.0036 - lr: 1.0775e-06\n",
      "\n",
      "Epoch 45: LearningRateScheduler setting learning rate to 9.697737297875248e-07.\n",
      "Epoch 45/200\n",
      "156/156 [==============================] - 4s 29ms/step - loss: 0.0017 - val_loss: 0.0037 - lr: 9.6977e-07\n",
      "\n",
      "Epoch 46: LearningRateScheduler setting learning rate to 8.727963568087723e-07.\n",
      "Epoch 46/200\n",
      "156/156 [==============================] - 5s 29ms/step - loss: 0.0016 - val_loss: 0.0036 - lr: 8.7280e-07\n",
      "\n",
      "Epoch 47: LearningRateScheduler setting learning rate to 7.855167211278951e-07.\n",
      "Epoch 47/200\n",
      "156/156 [==============================] - 5s 29ms/step - loss: 0.0017 - val_loss: 0.0036 - lr: 7.8552e-07\n",
      "\n",
      "Epoch 48: LearningRateScheduler setting learning rate to 7.069650490151056e-07.\n",
      "Epoch 48/200\n",
      "156/156 [==============================] - 5s 29ms/step - loss: 0.0017 - val_loss: 0.0036 - lr: 7.0697e-07\n",
      "\n",
      "Epoch 49: LearningRateScheduler setting learning rate to 6.36268544113595e-07.\n",
      "Epoch 49/200\n",
      "156/156 [==============================] - 5s 29ms/step - loss: 0.0016 - val_loss: 0.0036 - lr: 6.3627e-07\n",
      "\n",
      "Epoch 50: LearningRateScheduler setting learning rate to 5.726416897022355e-07.\n",
      "Epoch 50/200\n",
      "156/156 [==============================] - 5s 30ms/step - loss: 0.0016 - val_loss: 0.0036 - lr: 5.7264e-07\n",
      "\n",
      "Epoch 51: LearningRateScheduler setting learning rate to 5.15377520732012e-07.\n",
      "Epoch 51/200\n",
      "156/156 [==============================] - 5s 29ms/step - loss: 0.0017 - val_loss: 0.0036 - lr: 5.1538e-07\n",
      "\n",
      "Epoch 52: LearningRateScheduler setting learning rate to 4.6383976865881085e-07.\n",
      "Epoch 52/200\n",
      "156/156 [==============================] - 5s 30ms/step - loss: 0.0016 - val_loss: 0.0036 - lr: 4.6384e-07\n",
      "\n",
      "Epoch 53: LearningRateScheduler setting learning rate to 4.174557917929298e-07.\n",
      "Epoch 53/200\n",
      "156/156 [==============================] - 5s 29ms/step - loss: 0.0016 - val_loss: 0.0035 - lr: 4.1746e-07\n",
      "\n",
      "Epoch 54: LearningRateScheduler setting learning rate to 3.7571021261363677e-07.\n",
      "Epoch 54/200\n",
      "156/156 [==============================] - 5s 29ms/step - loss: 0.0016 - val_loss: 0.0036 - lr: 3.7571e-07\n",
      "\n",
      "Epoch 55: LearningRateScheduler setting learning rate to 3.381391913522731e-07.\n",
      "Epoch 55/200\n",
      "156/156 [==============================] - 5s 30ms/step - loss: 0.0016 - val_loss: 0.0035 - lr: 3.3814e-07\n",
      "\n",
      "Epoch 56: LearningRateScheduler setting learning rate to 3.043252722170458e-07.\n",
      "Epoch 56/200\n",
      "156/156 [==============================] - 5s 29ms/step - loss: 0.0016 - val_loss: 0.0035 - lr: 3.0433e-07\n",
      "\n",
      "Epoch 57: LearningRateScheduler setting learning rate to 2.7389274499534124e-07.\n",
      "Epoch 57/200\n",
      "156/156 [==============================] - 5s 29ms/step - loss: 0.0016 - val_loss: 0.0035 - lr: 2.7389e-07\n",
      "\n",
      "Epoch 58: LearningRateScheduler setting learning rate to 2.465034704958071e-07.\n",
      "Epoch 58/200\n",
      "156/156 [==============================] - 4s 29ms/step - loss: 0.0015 - val_loss: 0.0035 - lr: 2.4650e-07\n",
      "\n",
      "Epoch 59: LearningRateScheduler setting learning rate to 2.218531234462264e-07.\n",
      "Epoch 59/200\n",
      "156/156 [==============================] - 4s 28ms/step - loss: 0.0016 - val_loss: 0.0035 - lr: 2.2185e-07\n",
      "\n",
      "Epoch 60: LearningRateScheduler setting learning rate to 1.9966781110160376e-07.\n",
      "Epoch 60/200\n",
      "156/156 [==============================] - 5s 29ms/step - loss: 0.0016 - val_loss: 0.0035 - lr: 1.9967e-07\n",
      "\n",
      "Epoch 61: LearningRateScheduler setting learning rate to 1.797010299914434e-07.\n",
      "Epoch 61/200\n",
      "156/156 [==============================] - 5s 30ms/step - loss: 0.0016 - val_loss: 0.0035 - lr: 1.7970e-07\n",
      "\n",
      "Epoch 62: LearningRateScheduler setting learning rate to 1.6173092699229907e-07.\n",
      "Epoch 62/200\n",
      "156/156 [==============================] - 4s 29ms/step - loss: 0.0015 - val_loss: 0.0035 - lr: 1.6173e-07\n",
      "\n",
      "Epoch 63: LearningRateScheduler setting learning rate to 1.4555783429306916e-07.\n",
      "Epoch 63/200\n",
      "156/156 [==============================] - 4s 29ms/step - loss: 0.0015 - val_loss: 0.0035 - lr: 1.4556e-07\n",
      "\n",
      "Epoch 64: LearningRateScheduler setting learning rate to 1.3100205086376224e-07.\n",
      "Epoch 64/200\n",
      "156/156 [==============================] - 4s 29ms/step - loss: 0.0016 - val_loss: 0.0036 - lr: 1.3100e-07\n",
      "\n",
      "Epoch 65: LearningRateScheduler setting learning rate to 1.1790184577738603e-07.\n",
      "Epoch 65/200\n",
      "156/156 [==============================] - 5s 29ms/step - loss: 0.0016 - val_loss: 0.0035 - lr: 1.1790e-07\n",
      "\n",
      "Epoch 66: LearningRateScheduler setting learning rate to 1.0611166119964742e-07.\n",
      "Epoch 66/200\n",
      "156/156 [==============================] - 5s 29ms/step - loss: 0.0015 - val_loss: 0.0035 - lr: 1.0611e-07\n",
      "\n",
      "Epoch 67: LearningRateScheduler setting learning rate to 9.550049507968268e-08.\n",
      "Epoch 67/200\n",
      "156/156 [==============================] - 5s 29ms/step - loss: 0.0016 - val_loss: 0.0035 - lr: 9.5500e-08\n",
      "\n",
      "Epoch 68: LearningRateScheduler setting learning rate to 8.595044557171442e-08.\n",
      "Epoch 68/200\n",
      "156/156 [==============================] - 5s 29ms/step - loss: 0.0015 - val_loss: 0.0035 - lr: 8.5950e-08\n",
      "\n",
      "Epoch 69: LearningRateScheduler setting learning rate to 7.735540101454298e-08.\n",
      "Epoch 69/200\n",
      "156/156 [==============================] - 5s 29ms/step - loss: 0.0016 - val_loss: 0.0035 - lr: 7.7355e-08\n",
      "\n",
      "Epoch 70: LearningRateScheduler setting learning rate to 6.961986091308869e-08.\n",
      "Epoch 70/200\n",
      "156/156 [==============================] - 4s 28ms/step - loss: 0.0015 - val_loss: 0.0035 - lr: 6.9620e-08\n",
      "\n",
      "Epoch 71: LearningRateScheduler setting learning rate to 6.265787482177981e-08.\n",
      "Epoch 71/200\n",
      "156/156 [==============================] - 4s 28ms/step - loss: 0.0015 - val_loss: 0.0035 - lr: 6.2658e-08\n",
      "\n",
      "Epoch 72: LearningRateScheduler setting learning rate to 5.639208733960184e-08.\n",
      "Epoch 72/200\n",
      "156/156 [==============================] - 4s 28ms/step - loss: 0.0016 - val_loss: 0.0035 - lr: 5.6392e-08\n",
      "\n",
      "Epoch 73: LearningRateScheduler setting learning rate to 5.075287860564165e-08.\n",
      "Epoch 73/200\n",
      "156/156 [==============================] - 5s 29ms/step - loss: 0.0016 - val_loss: 0.0035 - lr: 5.0753e-08\n",
      "\n",
      "Epoch 74: LearningRateScheduler setting learning rate to 4.567759074507749e-08.\n",
      "Epoch 74/200\n",
      "156/156 [==============================] - 5s 30ms/step - loss: 0.0015 - val_loss: 0.0035 - lr: 4.5678e-08\n",
      "\n",
      "Epoch 75: LearningRateScheduler setting learning rate to 4.1109831670569744e-08.\n",
      "Epoch 75/200\n",
      "156/156 [==============================] - 5s 30ms/step - loss: 0.0015 - val_loss: 0.0035 - lr: 4.1110e-08\n",
      "\n",
      "Epoch 76: LearningRateScheduler setting learning rate to 3.6998848503512764e-08.\n",
      "Epoch 76/200\n",
      "156/156 [==============================] - 5s 29ms/step - loss: 0.0015 - val_loss: 0.0035 - lr: 3.6999e-08\n",
      "\n",
      "Epoch 77: LearningRateScheduler setting learning rate to 3.3298963653161496e-08.\n",
      "Epoch 77/200\n",
      "156/156 [==============================] - 4s 28ms/step - loss: 0.0015 - val_loss: 0.0035 - lr: 3.3299e-08\n",
      "\n",
      "Epoch 78: LearningRateScheduler setting learning rate to 2.996906728784534e-08.\n",
      "Epoch 78/200\n",
      "156/156 [==============================] - 4s 28ms/step - loss: 0.0015 - val_loss: 0.0035 - lr: 2.9969e-08\n",
      "\n",
      "Epoch 79: LearningRateScheduler setting learning rate to 2.697216055906081e-08.\n",
      "Epoch 79/200\n",
      "156/156 [==============================] - 4s 27ms/step - loss: 0.0015 - val_loss: 0.0035 - lr: 2.6972e-08\n",
      "\n",
      "Epoch 80: LearningRateScheduler setting learning rate to 2.427494450315473e-08.\n",
      "Epoch 80/200\n",
      "156/156 [==============================] - 4s 28ms/step - loss: 0.0015 - val_loss: 0.0035 - lr: 2.4275e-08\n",
      "\n",
      "Epoch 81: LearningRateScheduler setting learning rate to 2.1847450052839257e-08.\n",
      "Epoch 81/200\n",
      "156/156 [==============================] - 4s 28ms/step - loss: 0.0015 - val_loss: 0.0035 - lr: 2.1847e-08\n",
      "\n",
      "Epoch 82: LearningRateScheduler setting learning rate to 1.9662705047555332e-08.\n",
      "Epoch 82/200\n",
      "156/156 [==============================] - 4s 28ms/step - loss: 0.0015 - val_loss: 0.0035 - lr: 1.9663e-08\n",
      "\n",
      "Epoch 83: LearningRateScheduler setting learning rate to 1.7696434542799797e-08.\n",
      "Epoch 83/200\n",
      "156/156 [==============================] - 4s 29ms/step - loss: 0.0016 - val_loss: 0.0035 - lr: 1.7696e-08\n",
      "\n",
      "Epoch 84: LearningRateScheduler setting learning rate to 1.5926791088519817e-08.\n",
      "Epoch 84/200\n",
      "156/156 [==============================] - 5s 29ms/step - loss: 0.0015 - val_loss: 0.0035 - lr: 1.5927e-08\n",
      "\n",
      "Epoch 85: LearningRateScheduler setting learning rate to 1.4334111979667836e-08.\n",
      "Epoch 85/200\n",
      "156/156 [==============================] - 4s 28ms/step - loss: 0.0015 - val_loss: 0.0035 - lr: 1.4334e-08\n",
      "\n",
      "Epoch 86: LearningRateScheduler setting learning rate to 1.2900700781701054e-08.\n",
      "Epoch 86/200\n",
      "156/156 [==============================] - 4s 28ms/step - loss: 0.0015 - val_loss: 0.0035 - lr: 1.2901e-08\n",
      "\n",
      "Epoch 87: LearningRateScheduler setting learning rate to 1.161063070353095e-08.\n",
      "Epoch 87/200\n",
      "156/156 [==============================] - 4s 29ms/step - loss: 0.0015 - val_loss: 0.0035 - lr: 1.1611e-08\n",
      "\n",
      "Epoch 88: LearningRateScheduler setting learning rate to 1.0449567633177854e-08.\n",
      "Epoch 88/200\n",
      "156/156 [==============================] - 5s 29ms/step - loss: 0.0015 - val_loss: 0.0035 - lr: 1.0450e-08\n",
      "\n",
      "Epoch 89: LearningRateScheduler setting learning rate to 9.404610869860069e-09.\n",
      "Epoch 89/200\n",
      "156/156 [==============================] - 4s 29ms/step - loss: 0.0015 - val_loss: 0.0035 - lr: 9.4046e-09\n",
      "\n",
      "Epoch 90: LearningRateScheduler setting learning rate to 8.464149782874063e-09.\n",
      "Epoch 90/200\n",
      "156/156 [==============================] - 4s 29ms/step - loss: 0.0015 - val_loss: 0.0035 - lr: 8.4641e-09\n",
      "\n",
      "Epoch 91: LearningRateScheduler setting learning rate to 7.617734804586658e-09.\n",
      "Epoch 91/200\n",
      "156/156 [==============================] - 4s 29ms/step - loss: 0.0015 - val_loss: 0.0035 - lr: 7.6177e-09\n",
      "\n",
      "Epoch 92: LearningRateScheduler setting learning rate to 6.855961324127991e-09.\n",
      "Epoch 92/200\n",
      "156/156 [==============================] - 5s 29ms/step - loss: 0.0015 - val_loss: 0.0035 - lr: 6.8560e-09\n",
      "\n",
      "Epoch 93: LearningRateScheduler setting learning rate to 6.170365191715193e-09.\n",
      "Epoch 93/200\n",
      "156/156 [==============================] - 4s 29ms/step - loss: 0.0015 - val_loss: 0.0035 - lr: 6.1704e-09\n",
      "\n",
      "Epoch 94: LearningRateScheduler setting learning rate to 5.5533286725436726e-09.\n",
      "Epoch 94/200\n",
      "156/156 [==============================] - 5s 29ms/step - loss: 0.0015 - val_loss: 0.0035 - lr: 5.5533e-09\n",
      "\n",
      "Epoch 95: LearningRateScheduler setting learning rate to 4.997995805289306e-09.\n",
      "Epoch 95/200\n",
      "156/156 [==============================] - 4s 28ms/step - loss: 0.0014 - val_loss: 0.0035 - lr: 4.9980e-09\n",
      "\n",
      "Epoch 96: LearningRateScheduler setting learning rate to 4.498196224760375e-09.\n",
      "Epoch 96/200\n",
      "156/156 [==============================] - 4s 28ms/step - loss: 0.0015 - val_loss: 0.0035 - lr: 4.4982e-09\n",
      "\n",
      "Epoch 97: LearningRateScheduler setting learning rate to 4.048376602284338e-09.\n",
      "Epoch 97/200\n",
      "156/156 [==============================] - 4s 29ms/step - loss: 0.0015 - val_loss: 0.0035 - lr: 4.0484e-09\n",
      "\n",
      "Epoch 98: LearningRateScheduler setting learning rate to 3.643538942055904e-09.\n",
      "Epoch 98/200\n",
      "156/156 [==============================] - 4s 29ms/step - loss: 0.0015 - val_loss: 0.0035 - lr: 3.6435e-09\n",
      "\n",
      "Epoch 99: LearningRateScheduler setting learning rate to 3.279185047850314e-09.\n",
      "Epoch 99/200\n",
      "156/156 [==============================] - 5s 29ms/step - loss: 0.0014 - val_loss: 0.0035 - lr: 3.2792e-09\n",
      "\n",
      "Epoch 100: LearningRateScheduler setting learning rate to 2.9512665430652826e-09.\n",
      "Epoch 100/200\n",
      "156/156 [==============================] - 5s 29ms/step - loss: 0.0015 - val_loss: 0.0035 - lr: 2.9513e-09\n",
      "\n",
      "Epoch 101: LearningRateScheduler setting learning rate to 2.6561398887587547e-09.\n",
      "Epoch 101/200\n",
      "156/156 [==============================] - 5s 29ms/step - loss: 0.0015 - val_loss: 0.0035 - lr: 2.6561e-09\n",
      "\n",
      "Epoch 102: LearningRateScheduler setting learning rate to 2.390525899882879e-09.\n",
      "Epoch 102/200\n",
      "156/156 [==============================] - 5s 29ms/step - loss: 0.0015 - val_loss: 0.0035 - lr: 2.3905e-09\n",
      "\n",
      "Epoch 103: LearningRateScheduler setting learning rate to 2.151473309894591e-09.\n",
      "Epoch 103/200\n",
      "156/156 [==============================] - 5s 29ms/step - loss: 0.0015 - val_loss: 0.0035 - lr: 2.1515e-09\n",
      "\n",
      "Epoch 104: LearningRateScheduler setting learning rate to 1.936325978905132e-09.\n",
      "Epoch 104/200\n",
      "156/156 [==============================] - 4s 29ms/step - loss: 0.0015 - val_loss: 0.0035 - lr: 1.9363e-09\n",
      "\n",
      "Epoch 105: LearningRateScheduler setting learning rate to 1.742693381014619e-09.\n",
      "Epoch 105/200\n",
      "156/156 [==============================] - 4s 28ms/step - loss: 0.0015 - val_loss: 0.0035 - lr: 1.7427e-09\n",
      "\n",
      "Epoch 106: LearningRateScheduler setting learning rate to 1.568424042913157e-09.\n",
      "Epoch 106/200\n",
      "156/156 [==============================] - 4s 28ms/step - loss: 0.0015 - val_loss: 0.0035 - lr: 1.5684e-09\n",
      "\n",
      "Epoch 107: LearningRateScheduler setting learning rate to 1.4115816386218413e-09.\n",
      "Epoch 107/200\n",
      "156/156 [==============================] - 4s 28ms/step - loss: 0.0015 - val_loss: 0.0035 - lr: 1.4116e-09\n",
      "\n",
      "Epoch 108: LearningRateScheduler setting learning rate to 1.2704234747596572e-09.\n",
      "Epoch 108/200\n",
      "156/156 [==============================] - 4s 29ms/step - loss: 0.0016 - val_loss: 0.0035 - lr: 1.2704e-09\n",
      "\n",
      "Epoch 109: LearningRateScheduler setting learning rate to 1.1433811272836916e-09.\n",
      "Epoch 109/200\n",
      "156/156 [==============================] - 4s 28ms/step - loss: 0.0015 - val_loss: 0.0035 - lr: 1.1434e-09\n",
      "\n",
      "Epoch 110: LearningRateScheduler setting learning rate to 1.0290430145553225e-09.\n",
      "Epoch 110/200\n",
      "156/156 [==============================] - 4s 28ms/step - loss: 0.0015 - val_loss: 0.0035 - lr: 1.0290e-09\n",
      "\n",
      "Epoch 111: LearningRateScheduler setting learning rate to 9.261387130997902e-10.\n",
      "Epoch 111/200\n",
      "156/156 [==============================] - 4s 28ms/step - loss: 0.0016 - val_loss: 0.0035 - lr: 9.2614e-10\n",
      "\n",
      "Epoch 112: LearningRateScheduler setting learning rate to 8.335248417898112e-10.\n",
      "Epoch 112/200\n",
      "156/156 [==============================] - 4s 28ms/step - loss: 0.0015 - val_loss: 0.0035 - lr: 8.3352e-10\n",
      "\n",
      "Epoch 113: LearningRateScheduler setting learning rate to 7.501723576108301e-10.\n",
      "Epoch 113/200\n",
      "156/156 [==============================] - 4s 29ms/step - loss: 0.0015 - val_loss: 0.0035 - lr: 7.5017e-10\n",
      "\n",
      "Epoch 114: LearningRateScheduler setting learning rate to 6.751551218497471e-10.\n",
      "Epoch 114/200\n",
      "156/156 [==============================] - 4s 29ms/step - loss: 0.0015 - val_loss: 0.0035 - lr: 6.7516e-10\n",
      "\n",
      "Epoch 115: LearningRateScheduler setting learning rate to 6.076396096647724e-10.\n",
      "Epoch 115/200\n",
      "156/156 [==============================] - 5s 29ms/step - loss: 0.0015 - val_loss: 0.0035 - lr: 6.0764e-10\n",
      "\n",
      "Epoch 116: LearningRateScheduler setting learning rate to 5.468756486982953e-10.\n",
      "Epoch 116/200\n",
      "156/156 [==============================] - 4s 29ms/step - loss: 0.0015 - val_loss: 0.0035 - lr: 5.4688e-10\n",
      "\n",
      "Epoch 117: LearningRateScheduler setting learning rate to 4.921880838284657e-10.\n",
      "Epoch 117/200\n",
      "156/156 [==============================] - 4s 28ms/step - loss: 0.0015 - val_loss: 0.0035 - lr: 4.9219e-10\n",
      "\n",
      "Epoch 118: LearningRateScheduler setting learning rate to 4.4296927544561915e-10.\n",
      "Epoch 118/200\n",
      "156/156 [==============================] - 4s 28ms/step - loss: 0.0015 - val_loss: 0.0035 - lr: 4.4297e-10\n",
      "\n",
      "Epoch 119: LearningRateScheduler setting learning rate to 3.986723479010572e-10.\n",
      "Epoch 119/200\n",
      "156/156 [==============================] - 4s 28ms/step - loss: 0.0015 - val_loss: 0.0035 - lr: 3.9867e-10\n",
      "\n",
      "Epoch 120: LearningRateScheduler setting learning rate to 3.588051131109515e-10.\n",
      "Epoch 120/200\n",
      "156/156 [==============================] - 5s 29ms/step - loss: 0.0015 - val_loss: 0.0035 - lr: 3.5881e-10\n",
      "\n",
      "Epoch 121: LearningRateScheduler setting learning rate to 3.229246017998564e-10.\n",
      "Epoch 121/200\n",
      "156/156 [==============================] - 5s 29ms/step - loss: 0.0015 - val_loss: 0.0035 - lr: 3.2292e-10\n",
      "\n",
      "Epoch 122: LearningRateScheduler setting learning rate to 2.9063214161987077e-10.\n",
      "Epoch 122/200\n",
      "156/156 [==============================] - 5s 29ms/step - loss: 0.0015 - val_loss: 0.0035 - lr: 2.9063e-10\n",
      "\n",
      "Epoch 123: LearningRateScheduler setting learning rate to 2.6156892745788367e-10.\n",
      "Epoch 123/200\n",
      "156/156 [==============================] - 4s 28ms/step - loss: 0.0015 - val_loss: 0.0035 - lr: 2.6157e-10\n",
      "\n",
      "Epoch 124: LearningRateScheduler setting learning rate to 2.354120347120953e-10.\n",
      "Epoch 124/200\n",
      "156/156 [==============================] - 4s 28ms/step - loss: 0.0015 - val_loss: 0.0035 - lr: 2.3541e-10\n",
      "\n",
      "Epoch 125: LearningRateScheduler setting learning rate to 2.118708312408858e-10.\n",
      "Epoch 125/200\n",
      "156/156 [==============================] - 4s 28ms/step - loss: 0.0015 - val_loss: 0.0035 - lr: 2.1187e-10\n",
      "\n",
      "Epoch 126: LearningRateScheduler setting learning rate to 1.906837481167972e-10.\n",
      "Epoch 126/200\n",
      "156/156 [==============================] - 4s 28ms/step - loss: 0.0016 - val_loss: 0.0035 - lr: 1.9068e-10\n",
      "\n",
      "Epoch 127: LearningRateScheduler setting learning rate to 1.716153733051175e-10.\n",
      "Epoch 127/200\n",
      "156/156 [==============================] - 5s 29ms/step - loss: 0.0014 - val_loss: 0.0035 - lr: 1.7162e-10\n",
      "\n",
      "Epoch 128: LearningRateScheduler setting learning rate to 1.5445383597460575e-10.\n",
      "Epoch 128/200\n",
      "156/156 [==============================] - 5s 30ms/step - loss: 0.0015 - val_loss: 0.0035 - lr: 1.5445e-10\n",
      "\n",
      "Epoch 129: LearningRateScheduler setting learning rate to 1.3900845237714517e-10.\n",
      "Epoch 129/200\n",
      "156/156 [==============================] - 5s 30ms/step - loss: 0.0015 - val_loss: 0.0035 - lr: 1.3901e-10\n",
      "\n",
      "Epoch 130: LearningRateScheduler setting learning rate to 1.2510760713943067e-10.\n",
      "Epoch 130/200\n",
      "156/156 [==============================] - 5s 29ms/step - loss: 0.0016 - val_loss: 0.0035 - lr: 1.2511e-10\n",
      "\n",
      "Epoch 131: LearningRateScheduler setting learning rate to 1.1259684642548759e-10.\n",
      "Epoch 131/200\n",
      "156/156 [==============================] - 5s 29ms/step - loss: 0.0015 - val_loss: 0.0035 - lr: 1.1260e-10\n",
      "\n",
      "Epoch 132: LearningRateScheduler setting learning rate to 1.0133716178293884e-10.\n",
      "Epoch 132/200\n",
      "156/156 [==============================] - 4s 28ms/step - loss: 0.0016 - val_loss: 0.0035 - lr: 1.0134e-10\n",
      "\n",
      "Epoch 133: LearningRateScheduler setting learning rate to 9.120344560464496e-11.\n",
      "Epoch 133/200\n",
      "156/156 [==============================] - 4s 28ms/step - loss: 0.0015 - val_loss: 0.0035 - lr: 9.1203e-11\n",
      "\n",
      "Epoch 134: LearningRateScheduler setting learning rate to 8.208310104418047e-11.\n",
      "Epoch 134/200\n",
      "156/156 [==============================] - 4s 28ms/step - loss: 0.0015 - val_loss: 0.0035 - lr: 8.2083e-11\n",
      "\n",
      "Epoch 135: LearningRateScheduler setting learning rate to 7.387479093976243e-11.\n",
      "Epoch 135/200\n",
      "156/156 [==============================] - 4s 28ms/step - loss: 0.0015 - val_loss: 0.0035 - lr: 7.3875e-11\n",
      "\n",
      "Epoch 136: LearningRateScheduler setting learning rate to 6.648731184578618e-11.\n",
      "Epoch 136/200\n",
      "156/156 [==============================] - 5s 29ms/step - loss: 0.0015 - val_loss: 0.0035 - lr: 6.6487e-11\n",
      "\n",
      "Epoch 137: LearningRateScheduler setting learning rate to 5.983858066120756e-11.\n",
      "Epoch 137/200\n",
      "156/156 [==============================] - 5s 29ms/step - loss: 0.0015 - val_loss: 0.0035 - lr: 5.9839e-11\n",
      "\n",
      "Epoch 138: LearningRateScheduler setting learning rate to 5.385472259508681e-11.\n",
      "Epoch 138/200\n",
      "156/156 [==============================] - 4s 29ms/step - loss: 0.0016 - val_loss: 0.0035 - lr: 5.3855e-11\n",
      "\n",
      "Epoch 139: LearningRateScheduler setting learning rate to 4.846925033557813e-11.\n",
      "Epoch 139/200\n",
      "156/156 [==============================] - 4s 28ms/step - loss: 0.0015 - val_loss: 0.0035 - lr: 4.8469e-11\n",
      "\n",
      "Epoch 140: LearningRateScheduler setting learning rate to 4.362232530202031e-11.\n",
      "Epoch 140/200\n",
      "156/156 [==============================] - 4s 29ms/step - loss: 0.0015 - val_loss: 0.0035 - lr: 4.3622e-11\n",
      "\n",
      "Epoch 141: LearningRateScheduler setting learning rate to 3.926009277181829e-11.\n",
      "Epoch 141/200\n",
      "156/156 [==============================] - 4s 29ms/step - loss: 0.0015 - val_loss: 0.0035 - lr: 3.9260e-11\n",
      "\n",
      "Epoch 142: LearningRateScheduler setting learning rate to 3.533408349463646e-11.\n",
      "Epoch 142/200\n",
      "156/156 [==============================] - 5s 29ms/step - loss: 0.0015 - val_loss: 0.0035 - lr: 3.5334e-11\n",
      "\n",
      "Epoch 143: LearningRateScheduler setting learning rate to 3.180067514517281e-11.\n",
      "Epoch 143/200\n",
      "156/156 [==============================] - 5s 29ms/step - loss: 0.0015 - val_loss: 0.0035 - lr: 3.1801e-11\n",
      "\n",
      "Epoch 144: LearningRateScheduler setting learning rate to 2.8620607630655535e-11.\n",
      "Epoch 144/200\n",
      "156/156 [==============================] - 5s 29ms/step - loss: 0.0016 - val_loss: 0.0035 - lr: 2.8621e-11\n",
      "\n",
      "Epoch 145: LearningRateScheduler setting learning rate to 2.575854686758998e-11.\n",
      "Epoch 145/200\n",
      "156/156 [==============================] - 4s 29ms/step - loss: 0.0015 - val_loss: 0.0035 - lr: 2.5759e-11\n",
      "\n",
      "Epoch 146: LearningRateScheduler setting learning rate to 2.3182692180830982e-11.\n",
      "Epoch 146/200\n",
      "156/156 [==============================] - 4s 28ms/step - loss: 0.0015 - val_loss: 0.0035 - lr: 2.3183e-11\n",
      "\n",
      "Epoch 147: LearningRateScheduler setting learning rate to 2.0864422962747886e-11.\n",
      "Epoch 147/200\n",
      "156/156 [==============================] - 4s 28ms/step - loss: 0.0015 - val_loss: 0.0035 - lr: 2.0864e-11\n",
      "\n",
      "Epoch 148: LearningRateScheduler setting learning rate to 1.8777980666473096e-11.\n",
      "Epoch 148/200\n",
      "156/156 [==============================] - 4s 28ms/step - loss: 0.0015 - val_loss: 0.0035 - lr: 1.8778e-11\n",
      "\n",
      "Epoch 149: LearningRateScheduler setting learning rate to 1.6900182599825788e-11.\n",
      "Epoch 149/200\n",
      "156/156 [==============================] - 4s 28ms/step - loss: 0.0015 - val_loss: 0.0035 - lr: 1.6900e-11\n",
      "\n",
      "Epoch 150: LearningRateScheduler setting learning rate to 1.521016433984321e-11.\n",
      "Epoch 150/200\n",
      "156/156 [==============================] - 4s 28ms/step - loss: 0.0015 - val_loss: 0.0035 - lr: 1.5210e-11\n",
      "\n",
      "Epoch 151: LearningRateScheduler setting learning rate to 1.368914790585889e-11.\n",
      "Epoch 151/200\n",
      "156/156 [==============================] - 4s 28ms/step - loss: 0.0014 - val_loss: 0.0035 - lr: 1.3689e-11\n",
      "\n",
      "Epoch 152: LearningRateScheduler setting learning rate to 1.2320233115273e-11.\n",
      "Epoch 152/200\n",
      "156/156 [==============================] - 4s 29ms/step - loss: 0.0014 - val_loss: 0.0035 - lr: 1.2320e-11\n",
      "\n",
      "Epoch 153: LearningRateScheduler setting learning rate to 1.1088209803745701e-11.\n",
      "Epoch 153/200\n",
      "156/156 [==============================] - 4s 28ms/step - loss: 0.0015 - val_loss: 0.0035 - lr: 1.1088e-11\n",
      "\n",
      "Epoch 154: LearningRateScheduler setting learning rate to 9.97938882337113e-12.\n",
      "Epoch 154/200\n",
      "156/156 [==============================] - 4s 29ms/step - loss: 0.0015 - val_loss: 0.0035 - lr: 9.9794e-12\n",
      "\n",
      "Epoch 155: LearningRateScheduler setting learning rate to 8.981449941034018e-12.\n",
      "Epoch 155/200\n",
      "156/156 [==============================] - 5s 29ms/step - loss: 0.0015 - val_loss: 0.0035 - lr: 8.9815e-12\n",
      "\n",
      "Epoch 156: LearningRateScheduler setting learning rate to 8.083304946930616e-12.\n",
      "Epoch 156/200\n",
      "156/156 [==============================] - 5s 29ms/step - loss: 0.0015 - val_loss: 0.0035 - lr: 8.0833e-12\n",
      "\n",
      "Epoch 157: LearningRateScheduler setting learning rate to 7.2749744522375544e-12.\n",
      "Epoch 157/200\n",
      "156/156 [==============================] - 4s 28ms/step - loss: 0.0015 - val_loss: 0.0035 - lr: 7.2750e-12\n",
      "\n",
      "Epoch 158: LearningRateScheduler setting learning rate to 6.5474770070137995e-12.\n",
      "Epoch 158/200\n",
      "156/156 [==============================] - 4s 28ms/step - loss: 0.0015 - val_loss: 0.0035 - lr: 6.5475e-12\n",
      "\n",
      "Epoch 159: LearningRateScheduler setting learning rate to 5.89272930631242e-12.\n",
      "Epoch 159/200\n",
      "156/156 [==============================] - 4s 28ms/step - loss: 0.0015 - val_loss: 0.0035 - lr: 5.8927e-12\n",
      "\n",
      "Epoch 160: LearningRateScheduler setting learning rate to 5.303456375681178e-12.\n",
      "Epoch 160/200\n",
      "156/156 [==============================] - 4s 28ms/step - loss: 0.0015 - val_loss: 0.0035 - lr: 5.3035e-12\n",
      "\n",
      "Epoch 161: LearningRateScheduler setting learning rate to 4.77311073811306e-12.\n",
      "Epoch 161/200\n",
      "156/156 [==============================] - 4s 28ms/step - loss: 0.0016 - val_loss: 0.0035 - lr: 4.7731e-12\n",
      "\n",
      "Epoch 162: LearningRateScheduler setting learning rate to 4.295799664301754e-12.\n",
      "Epoch 162/200\n",
      "156/156 [==============================] - 4s 29ms/step - loss: 0.0015 - val_loss: 0.0035 - lr: 4.2958e-12\n",
      "\n",
      "Epoch 163: LearningRateScheduler setting learning rate to 3.866219697871579e-12.\n",
      "Epoch 163/200\n",
      "156/156 [==============================] - 4s 28ms/step - loss: 0.0015 - val_loss: 0.0035 - lr: 3.8662e-12\n",
      "\n",
      "Epoch 164: LearningRateScheduler setting learning rate to 3.479597728084421e-12.\n",
      "Epoch 164/200\n",
      "156/156 [==============================] - 4s 28ms/step - loss: 0.0016 - val_loss: 0.0035 - lr: 3.4796e-12\n",
      "\n",
      "Epoch 165: LearningRateScheduler setting learning rate to 3.131637955275979e-12.\n",
      "Epoch 165/200\n",
      "156/156 [==============================] - 4s 28ms/step - loss: 0.0015 - val_loss: 0.0035 - lr: 3.1316e-12\n",
      "\n",
      "Epoch 166: LearningRateScheduler setting learning rate to 2.818474159748381e-12.\n",
      "Epoch 166/200\n",
      "156/156 [==============================] - 4s 28ms/step - loss: 0.0015 - val_loss: 0.0035 - lr: 2.8185e-12\n",
      "\n",
      "Epoch 167: LearningRateScheduler setting learning rate to 2.536626743773543e-12.\n",
      "Epoch 167/200\n",
      "156/156 [==============================] - 4s 28ms/step - loss: 0.0015 - val_loss: 0.0035 - lr: 2.5366e-12\n",
      "\n",
      "Epoch 168: LearningRateScheduler setting learning rate to 2.282964069396189e-12.\n",
      "Epoch 168/200\n",
      "156/156 [==============================] - 4s 28ms/step - loss: 0.0015 - val_loss: 0.0035 - lr: 2.2830e-12\n",
      "\n",
      "Epoch 169: LearningRateScheduler setting learning rate to 2.0546676624565702e-12.\n",
      "Epoch 169/200\n",
      "156/156 [==============================] - 4s 28ms/step - loss: 0.0015 - val_loss: 0.0035 - lr: 2.0547e-12\n",
      "\n",
      "Epoch 170: LearningRateScheduler setting learning rate to 1.849200896210913e-12.\n",
      "Epoch 170/200\n",
      "156/156 [==============================] - 4s 28ms/step - loss: 0.0015 - val_loss: 0.0035 - lr: 1.8492e-12\n",
      "\n",
      "Epoch 171: LearningRateScheduler setting learning rate to 1.664280806589822e-12.\n",
      "Epoch 171/200\n",
      "156/156 [==============================] - 4s 29ms/step - loss: 0.0015 - val_loss: 0.0035 - lr: 1.6643e-12\n",
      "\n",
      "Epoch 172: LearningRateScheduler setting learning rate to 1.4978527259308396e-12.\n",
      "Epoch 172/200\n",
      "156/156 [==============================] - 4s 28ms/step - loss: 0.0015 - val_loss: 0.0035 - lr: 1.4979e-12\n",
      "\n",
      "Epoch 173: LearningRateScheduler setting learning rate to 1.3480674533377558e-12.\n",
      "Epoch 173/200\n",
      "156/156 [==============================] - 4s 28ms/step - loss: 0.0015 - val_loss: 0.0035 - lr: 1.3481e-12\n",
      "\n",
      "Epoch 174: LearningRateScheduler setting learning rate to 1.2132607080039802e-12.\n",
      "Epoch 174/200\n",
      "156/156 [==============================] - 4s 28ms/step - loss: 0.0015 - val_loss: 0.0035 - lr: 1.2133e-12\n",
      "\n",
      "Epoch 175: LearningRateScheduler setting learning rate to 1.0919346372035822e-12.\n",
      "Epoch 175/200\n",
      "156/156 [==============================] - 4s 29ms/step - loss: 0.0015 - val_loss: 0.0035 - lr: 1.0919e-12\n",
      "\n",
      "Epoch 176: LearningRateScheduler setting learning rate to 9.82741173483224e-13.\n",
      "Epoch 176/200\n",
      "156/156 [==============================] - 4s 28ms/step - loss: 0.0015 - val_loss: 0.0035 - lr: 9.8274e-13\n",
      "\n",
      "Epoch 177: LearningRateScheduler setting learning rate to 8.844670561349017e-13.\n",
      "Epoch 177/200\n",
      "156/156 [==============================] - 4s 28ms/step - loss: 0.0015 - val_loss: 0.0035 - lr: 8.8447e-13\n",
      "\n",
      "Epoch 178: LearningRateScheduler setting learning rate to 7.960203505214115e-13.\n",
      "Epoch 178/200\n",
      "156/156 [==============================] - 5s 29ms/step - loss: 0.0015 - val_loss: 0.0035 - lr: 7.9602e-13\n",
      "\n",
      "Epoch 179: LearningRateScheduler setting learning rate to 7.164183154692704e-13.\n",
      "Epoch 179/200\n",
      "156/156 [==============================] - 4s 29ms/step - loss: 0.0014 - val_loss: 0.0035 - lr: 7.1642e-13\n",
      "\n",
      "Epoch 180: LearningRateScheduler setting learning rate to 6.447764839223434e-13.\n",
      "Epoch 180/200\n",
      "156/156 [==============================] - 4s 28ms/step - loss: 0.0015 - val_loss: 0.0035 - lr: 6.4478e-13\n",
      "\n",
      "Epoch 181: LearningRateScheduler setting learning rate to 5.802988355301091e-13.\n",
      "Epoch 181/200\n",
      "156/156 [==============================] - 4s 29ms/step - loss: 0.0015 - val_loss: 0.0035 - lr: 5.8030e-13\n",
      "\n",
      "Epoch 182: LearningRateScheduler setting learning rate to 5.222689519770981e-13.\n",
      "Epoch 182/200\n",
      "156/156 [==============================] - 4s 29ms/step - loss: 0.0015 - val_loss: 0.0035 - lr: 5.2227e-13\n",
      "\n",
      "Epoch 183: LearningRateScheduler setting learning rate to 4.700420567793884e-13.\n",
      "Epoch 183/200\n",
      "156/156 [==============================] - 4s 28ms/step - loss: 0.0015 - val_loss: 0.0035 - lr: 4.7004e-13\n",
      "\n",
      "Epoch 184: LearningRateScheduler setting learning rate to 4.230378511014495e-13.\n",
      "Epoch 184/200\n",
      "156/156 [==============================] - 4s 28ms/step - loss: 0.0015 - val_loss: 0.0035 - lr: 4.2304e-13\n",
      "\n",
      "Epoch 185: LearningRateScheduler setting learning rate to 3.807340659913046e-13.\n",
      "Epoch 185/200\n",
      "156/156 [==============================] - 4s 28ms/step - loss: 0.0015 - val_loss: 0.0035 - lr: 3.8073e-13\n",
      "\n",
      "Epoch 186: LearningRateScheduler setting learning rate to 3.426606593921741e-13.\n",
      "Epoch 186/200\n",
      "156/156 [==============================] - 4s 28ms/step - loss: 0.0015 - val_loss: 0.0035 - lr: 3.4266e-13\n",
      "\n",
      "Epoch 187: LearningRateScheduler setting learning rate to 3.083945934529567e-13.\n",
      "Epoch 187/200\n",
      "156/156 [==============================] - 4s 28ms/step - loss: 0.0015 - val_loss: 0.0035 - lr: 3.0839e-13\n",
      "\n",
      "Epoch 188: LearningRateScheduler setting learning rate to 2.7755513410766107e-13.\n",
      "Epoch 188/200\n",
      "156/156 [==============================] - 5s 29ms/step - loss: 0.0015 - val_loss: 0.0035 - lr: 2.7756e-13\n",
      "\n",
      "Epoch 189: LearningRateScheduler setting learning rate to 2.4979962069689497e-13.\n",
      "Epoch 189/200\n",
      "156/156 [==============================] - 5s 29ms/step - loss: 0.0015 - val_loss: 0.0035 - lr: 2.4980e-13\n",
      "\n",
      "Epoch 190: LearningRateScheduler setting learning rate to 2.2481965862720548e-13.\n",
      "Epoch 190/200\n",
      "156/156 [==============================] - 5s 29ms/step - loss: 0.0015 - val_loss: 0.0035 - lr: 2.2482e-13\n",
      "\n",
      "Epoch 191: LearningRateScheduler setting learning rate to 2.0233769276448494e-13.\n",
      "Epoch 191/200\n",
      "156/156 [==============================] - 4s 28ms/step - loss: 0.0015 - val_loss: 0.0035 - lr: 2.0234e-13\n",
      "\n",
      "Epoch 192: LearningRateScheduler setting learning rate to 1.8210392348803642e-13.\n",
      "Epoch 192/200\n",
      "156/156 [==============================] - 4s 28ms/step - loss: 0.0015 - val_loss: 0.0035 - lr: 1.8210e-13\n",
      "\n",
      "Epoch 193: LearningRateScheduler setting learning rate to 1.6389353113923279e-13.\n",
      "Epoch 193/200\n",
      "156/156 [==============================] - 4s 28ms/step - loss: 0.0016 - val_loss: 0.0035 - lr: 1.6389e-13\n",
      "\n",
      "Epoch 194: LearningRateScheduler setting learning rate to 1.4750417802530953e-13.\n",
      "Epoch 194/200\n",
      "156/156 [==============================] - 4s 28ms/step - loss: 0.0015 - val_loss: 0.0035 - lr: 1.4750e-13\n",
      "\n",
      "Epoch 195: LearningRateScheduler setting learning rate to 1.3275376022277855e-13.\n",
      "Epoch 195/200\n",
      "156/156 [==============================] - 4s 28ms/step - loss: 0.0014 - val_loss: 0.0035 - lr: 1.3275e-13\n",
      "\n",
      "Epoch 196: LearningRateScheduler setting learning rate to 1.194783842005007e-13.\n",
      "Epoch 196/200\n",
      "156/156 [==============================] - 4s 29ms/step - loss: 0.0015 - val_loss: 0.0035 - lr: 1.1948e-13\n",
      "\n",
      "Epoch 197: LearningRateScheduler setting learning rate to 1.0753054578045064e-13.\n",
      "Epoch 197/200\n",
      "156/156 [==============================] - 5s 29ms/step - loss: 0.0015 - val_loss: 0.0035 - lr: 1.0753e-13\n",
      "\n",
      "Epoch 198: LearningRateScheduler setting learning rate to 9.677749120240559e-14.\n",
      "Epoch 198/200\n",
      "156/156 [==============================] - 5s 29ms/step - loss: 0.0015 - val_loss: 0.0035 - lr: 9.6777e-14\n",
      "\n",
      "Epoch 199: LearningRateScheduler setting learning rate to 8.709974208216504e-14.\n",
      "Epoch 199/200\n",
      "156/156 [==============================] - 4s 29ms/step - loss: 0.0015 - val_loss: 0.0035 - lr: 8.7100e-14\n",
      "\n",
      "Epoch 200: LearningRateScheduler setting learning rate to 7.838976787394853e-14.\n",
      "Epoch 200/200\n",
      "156/156 [==============================] - 4s 29ms/step - loss: 0.0016 - val_loss: 0.0035 - lr: 7.8390e-14\n",
      "CPU times: user 18min 12s, sys: 45.7 s, total: 18min 58s\n",
      "Wall time: 14min 58s\n"
     ]
    },
    {
     "data": {
      "text/plain": [
       "<keras.callbacks.History at 0x15324e388880>"
      ]
     },
     "execution_count": 195,
     "metadata": {},
     "output_type": "execute_result"
    }
   ],
   "source": [
    "%%time\n",
    "# Learning rate schedule\n",
    "LEARNING_RATE=0.0001\n",
    "LEARNING_RATE_EXP_DECAY=0.9\n",
    "lr_decay = tfk.callbacks.LearningRateScheduler(\n",
    "    lambda epoch: LEARNING_RATE * LEARNING_RATE_EXP_DECAY**epoch,\n",
    "    verbose=True)\n",
    "\n",
    "# Tensoboard tracking\n",
    "tb_callback = tf.keras.callbacks.TensorBoard('./logs/ResNet', update_freq='batch')\n",
    "\n",
    "model_resnet.fit(x = img_train, \n",
    "          y = z_train,\n",
    "          batch_size = 64,\n",
    "          validation_data=(img_test, z_test),\n",
    "          steps_per_epoch=10000//64,\n",
    "          epochs=200,\n",
    "          callbacks=[tb_callback, lr_decay])"
   ]
  },
  {
   "cell_type": "code",
   "execution_count": 196,
   "id": "d23709a2-1d48-41bf-8521-bf520e5d697f",
   "metadata": {},
   "outputs": [
    {
     "name": "stdout",
     "output_type": "stream",
     "text": [
      "313/313 [==============================] - 2s 6ms/step\n"
     ]
    }
   ],
   "source": [
    "# Get the prediction\n",
    "resnet_preds = model_resnet.predict(img_test)"
   ]
  },
  {
   "cell_type": "code",
   "execution_count": 197,
   "id": "0a66d4f3-1472-40ec-925d-1dfbba3b55f2",
   "metadata": {},
   "outputs": [
    {
     "data": {
      "image/png": "[encoded data removed]",
      "text/plain": [
       "<Figure size 640x480 with 1 Axes>"
      ]
     },
     "metadata": {},
     "output_type": "display_data"
    }
   ],
   "source": [
    "plt.hist2d(z_test, resnet_preds.squeeze(), 64, range=[[0,0.7],[0,0.7]], cmap='gist_stern'); \n",
    "plt.gca().set_aspect('equal');\n",
    "plt.plot([0,0.7],[0,0.7],color='r')\n",
    "plt.xlabel('Spectroscopic Redshift')\n",
    "plt.ylabel('Predicted Redshift');"
   ]
  },
  {
   "cell_type": "code",
   "execution_count": 198,
   "id": "695f7b32-3350-4d6c-8e03-a216c26eab2e",
   "metadata": {},
   "outputs": [
    {
     "name": "stdout",
     "output_type": "stream",
     "text": [
      "Prediction bias: 0.0032\n"
     ]
    },
    {
     "data": {
      "text/latex": [
       "$\\sigma MAD$: 0.0425"
      ],
      "text/plain": [
       "<IPython.core.display.Latex object>"
      ]
     },
     "metadata": {},
     "output_type": "display_data"
    },
    {
     "name": "stdout",
     "output_type": "stream",
     "text": [
      "Outlier fraction: 25.83%\n"
     ]
    }
   ],
   "source": [
    "dz, pred_bias, smad, out_frac = metrics(z_test, resnet_preds.squeeze())\n",
    "print_metrics(pred_bias, smad, out_frac)"
   ]
  },
  {
   "cell_type": "code",
   "execution_count": 40,
   "id": "c78539af-b49a-489f-9600-d69eae228401",
   "metadata": {},
   "outputs": [
    {
     "name": "stdout",
     "output_type": "stream",
     "text": [
      "MSE for CNN model: 2.26 e-3\n",
      "MSE for ResNet50 model: 1.78 e-3\n",
      "0.032209106 0.028921926\n"
     ]
    }
   ],
   "source": [
    "# Compare MSE results\n",
    "from sklearn.metrics import mean_squared_error, mean_absolute_error\n",
    "mse = mean_squared_error(z_test, preds)\n",
    "mse_resnet = mean_squared_error(z_test, resnet_preds)\n",
    "print(f\"MSE for CNN model: {1e3*mse:.2f} e-3\")\n",
    "print(f'MSE for ResNet50 model: {1e3*mse_resnet:.2f} e-3')\n",
    "print(mean_absolute_error(z_test, preds), mean_absolute_error(z_test, resnet_preds))"
   ]
  },
  {
   "cell_type": "markdown",
   "id": "303d8eaf-84be-48b2-8d62-5ac6e0f84c1c",
   "metadata": {
    "jp-MarkdownHeadingCollapsed": true,
    "tags": []
   },
   "source": [
    "# 4. DenseNet"
   ]
  },
  {
   "cell_type": "code",
   "execution_count": 217,
   "id": "8b7f832b-ecaa-4975-8121-49349a08d461",
   "metadata": {},
   "outputs": [],
   "source": [
    "from tensorflow.keras.applications import DenseNet121\n",
    "\n",
    "def densenet_model():\n",
    "\n",
    "    model = tfk.models.Sequential()\n",
    "\n",
    "    model.add(DenseNet121(include_top = False,\n",
    "                     pooling = 'avg',\n",
    "                     input_shape=(64,64,5),\n",
    "                     weights=None))\n",
    "\n",
    "    model.add(tfk.layers.Flatten())\n",
    "    model.add(tfk.layers.Dense(512))\n",
    "    model.add(tfk.layers.Activation('relu'))\n",
    "    model.add(tfk.layers.Dense(256))\n",
    "    model.add(tfk.layers.Activation('relu'))\n",
    "    model.add(tfk.layers.Dense(1))\n",
    "\n",
    "    model.compile(optimizer='adam', # learning rate will be set by LearningRateScheduler\n",
    "                loss=tfk.metrics.mse)\n",
    "    return model"
   ]
  },
  {
   "cell_type": "code",
   "execution_count": 218,
   "id": "ff64d171-65d7-4f8e-b994-98c52045d0fe",
   "metadata": {},
   "outputs": [
    {
     "name": "stdout",
     "output_type": "stream",
     "text": [
      "Model: \"sequential_24\"\n",
      "_________________________________________________________________\n",
      " Layer (type)                Output Shape              Param #   \n",
      "=================================================================\n",
      " densenet121 (Functional)    (None, 1024)              7043776   \n",
      "                                                                 \n",
      " flatten_24 (Flatten)        (None, 1024)              0         \n",
      "                                                                 \n",
      " dense_72 (Dense)            (None, 512)               524800    \n",
      "                                                                 \n",
      " activation_48 (Activation)  (None, 512)               0         \n",
      "                                                                 \n",
      " dense_73 (Dense)            (None, 256)               131328    \n",
      "                                                                 \n",
      " activation_49 (Activation)  (None, 256)               0         \n",
      "                                                                 \n",
      " dense_74 (Dense)            (None, 1)                 257       \n",
      "                                                                 \n",
      "=================================================================\n",
      "Total params: 7,700,161\n",
      "Trainable params: 7,616,513\n",
      "Non-trainable params: 83,648\n",
      "_________________________________________________________________\n"
     ]
    }
   ],
   "source": [
    "model_densenet = densenet_model()\n",
    "\n",
    "model_densenet.summary()"
   ]
  },
  {
   "cell_type": "code",
   "execution_count": 219,
   "id": "855b7bed-3085-4e90-9a09-24533e35b22d",
   "metadata": {},
   "outputs": [
    {
     "name": "stdout",
     "output_type": "stream",
     "text": [
      "\n",
      "Epoch 1: LearningRateScheduler setting learning rate to 0.001.\n",
      "Epoch 1/40\n",
      "156/156 [==============================] - 16s 66ms/step - loss: 0.1906 - val_loss: 0.0098 - lr: 0.0010\n",
      "\n",
      "Epoch 2: LearningRateScheduler setting learning rate to 0.0009000000000000001.\n",
      "Epoch 2/40\n",
      "156/156 [==============================] - 8s 54ms/step - loss: 0.0026 - val_loss: 0.0033 - lr: 9.0000e-04\n",
      "\n",
      "Epoch 3: LearningRateScheduler setting learning rate to 0.0008100000000000001.\n",
      "Epoch 3/40\n",
      "156/156 [==============================] - 9s 55ms/step - loss: 0.0022 - val_loss: 0.0025 - lr: 8.1000e-04\n",
      "\n",
      "Epoch 4: LearningRateScheduler setting learning rate to 0.0007290000000000002.\n",
      "Epoch 4/40\n",
      "156/156 [==============================] - 8s 54ms/step - loss: 0.0021 - val_loss: 0.0026 - lr: 7.2900e-04\n",
      "\n",
      "Epoch 5: LearningRateScheduler setting learning rate to 0.0006561000000000001.\n",
      "Epoch 5/40\n",
      "156/156 [==============================] - 9s 55ms/step - loss: 0.0021 - val_loss: 0.0017 - lr: 6.5610e-04\n",
      "\n",
      "Epoch 6: LearningRateScheduler setting learning rate to 0.00059049.\n",
      "Epoch 6/40\n",
      "156/156 [==============================] - 8s 54ms/step - loss: 0.0016 - val_loss: 0.0018 - lr: 5.9049e-04\n",
      "\n",
      "Epoch 7: LearningRateScheduler setting learning rate to 0.000531441.\n",
      "Epoch 7/40\n",
      "156/156 [==============================] - 8s 55ms/step - loss: 0.0012 - val_loss: 0.0019 - lr: 5.3144e-04\n",
      "\n",
      "Epoch 8: LearningRateScheduler setting learning rate to 0.0004782969000000001.\n",
      "Epoch 8/40\n",
      "156/156 [==============================] - 9s 55ms/step - loss: 0.0012 - val_loss: 0.0019 - lr: 4.7830e-04\n",
      "\n",
      "Epoch 9: LearningRateScheduler setting learning rate to 0.0004304672100000001.\n",
      "Epoch 9/40\n",
      "156/156 [==============================] - 8s 54ms/step - loss: 0.0011 - val_loss: 0.0019 - lr: 4.3047e-04\n",
      "\n",
      "Epoch 10: LearningRateScheduler setting learning rate to 0.0003874204890000001.\n",
      "Epoch 10/40\n",
      "156/156 [==============================] - 8s 54ms/step - loss: 8.3821e-04 - val_loss: 0.0014 - lr: 3.8742e-04\n",
      "\n",
      "Epoch 11: LearningRateScheduler setting learning rate to 0.0003486784401000001.\n",
      "Epoch 11/40\n",
      "156/156 [==============================] - 9s 55ms/step - loss: 7.6712e-04 - val_loss: 0.0014 - lr: 3.4868e-04\n",
      "\n",
      "Epoch 12: LearningRateScheduler setting learning rate to 0.0003138105960900001.\n",
      "Epoch 12/40\n",
      "156/156 [==============================] - 9s 55ms/step - loss: 7.1190e-04 - val_loss: 0.0020 - lr: 3.1381e-04\n",
      "\n",
      "Epoch 13: LearningRateScheduler setting learning rate to 0.0002824295364810001.\n",
      "Epoch 13/40\n",
      "156/156 [==============================] - 8s 54ms/step - loss: 6.1730e-04 - val_loss: 0.0014 - lr: 2.8243e-04\n",
      "\n",
      "Epoch 14: LearningRateScheduler setting learning rate to 0.0002541865828329001.\n",
      "Epoch 14/40\n",
      "156/156 [==============================] - 8s 54ms/step - loss: 5.4710e-04 - val_loss: 0.0018 - lr: 2.5419e-04\n",
      "\n",
      "Epoch 15: LearningRateScheduler setting learning rate to 0.0002287679245496101.\n",
      "Epoch 15/40\n",
      "156/156 [==============================] - 8s 54ms/step - loss: 5.5329e-04 - val_loss: 0.0022 - lr: 2.2877e-04\n",
      "\n",
      "Epoch 16: LearningRateScheduler setting learning rate to 0.0002058911320946491.\n",
      "Epoch 16/40\n",
      "156/156 [==============================] - 8s 54ms/step - loss: 4.6875e-04 - val_loss: 0.0015 - lr: 2.0589e-04\n",
      "\n",
      "Epoch 17: LearningRateScheduler setting learning rate to 0.00018530201888518417.\n",
      "Epoch 17/40\n",
      "156/156 [==============================] - 8s 54ms/step - loss: 4.2618e-04 - val_loss: 0.0013 - lr: 1.8530e-04\n",
      "\n",
      "Epoch 18: LearningRateScheduler setting learning rate to 0.00016677181699666576.\n",
      "Epoch 18/40\n",
      "156/156 [==============================] - 8s 54ms/step - loss: 4.3193e-04 - val_loss: 0.0014 - lr: 1.6677e-04\n",
      "\n",
      "Epoch 19: LearningRateScheduler setting learning rate to 0.00015009463529699917.\n",
      "Epoch 19/40\n",
      "156/156 [==============================] - 8s 54ms/step - loss: 3.9112e-04 - val_loss: 0.0014 - lr: 1.5009e-04\n",
      "\n",
      "Epoch 20: LearningRateScheduler setting learning rate to 0.0001350851717672993.\n",
      "Epoch 20/40\n",
      "156/156 [==============================] - 9s 55ms/step - loss: 3.1090e-04 - val_loss: 0.0015 - lr: 1.3509e-04\n",
      "\n",
      "Epoch 21: LearningRateScheduler setting learning rate to 0.00012157665459056935.\n",
      "Epoch 21/40\n",
      "156/156 [==============================] - 8s 54ms/step - loss: 3.3211e-04 - val_loss: 0.0014 - lr: 1.2158e-04\n",
      "\n",
      "Epoch 22: LearningRateScheduler setting learning rate to 0.00010941898913151242.\n",
      "Epoch 22/40\n",
      "156/156 [==============================] - 8s 54ms/step - loss: 3.1004e-04 - val_loss: 0.0015 - lr: 1.0942e-04\n",
      "\n",
      "Epoch 23: LearningRateScheduler setting learning rate to 9.847709021836118e-05.\n",
      "Epoch 23/40\n",
      "156/156 [==============================] - 8s 53ms/step - loss: 3.0714e-04 - val_loss: 0.0014 - lr: 9.8477e-05\n",
      "\n",
      "Epoch 24: LearningRateScheduler setting learning rate to 8.862938119652506e-05.\n",
      "Epoch 24/40\n",
      "156/156 [==============================] - 8s 54ms/step - loss: 2.5159e-04 - val_loss: 0.0014 - lr: 8.8629e-05\n",
      "\n",
      "Epoch 25: LearningRateScheduler setting learning rate to 7.976644307687256e-05.\n",
      "Epoch 25/40\n",
      "156/156 [==============================] - 9s 56ms/step - loss: 2.5421e-04 - val_loss: 0.0013 - lr: 7.9766e-05\n",
      "\n",
      "Epoch 26: LearningRateScheduler setting learning rate to 7.17897987691853e-05.\n",
      "Epoch 26/40\n",
      "156/156 [==============================] - 9s 56ms/step - loss: 2.3897e-04 - val_loss: 0.0014 - lr: 7.1790e-05\n",
      "\n",
      "Epoch 27: LearningRateScheduler setting learning rate to 6.461081889226677e-05.\n",
      "Epoch 27/40\n",
      "156/156 [==============================] - 9s 55ms/step - loss: 2.3746e-04 - val_loss: 0.0017 - lr: 6.4611e-05\n",
      "\n",
      "Epoch 28: LearningRateScheduler setting learning rate to 5.8149737003040094e-05.\n",
      "Epoch 28/40\n",
      "156/156 [==============================] - 8s 54ms/step - loss: 2.2053e-04 - val_loss: 0.0013 - lr: 5.8150e-05\n",
      "\n",
      "Epoch 29: LearningRateScheduler setting learning rate to 5.233476330273609e-05.\n",
      "Epoch 29/40\n",
      "156/156 [==============================] - 8s 54ms/step - loss: 2.1821e-04 - val_loss: 0.0013 - lr: 5.2335e-05\n",
      "\n",
      "Epoch 30: LearningRateScheduler setting learning rate to 4.7101286972462485e-05.\n",
      "Epoch 30/40\n",
      "156/156 [==============================] - 9s 55ms/step - loss: 2.2218e-04 - val_loss: 0.0013 - lr: 4.7101e-05\n",
      "\n",
      "Epoch 31: LearningRateScheduler setting learning rate to 4.239115827521624e-05.\n",
      "Epoch 31/40\n",
      "156/156 [==============================] - 8s 54ms/step - loss: 1.9517e-04 - val_loss: 0.0014 - lr: 4.2391e-05\n",
      "\n",
      "Epoch 32: LearningRateScheduler setting learning rate to 3.8152042447694614e-05.\n",
      "Epoch 32/40\n",
      "156/156 [==============================] - 9s 55ms/step - loss: 1.9271e-04 - val_loss: 0.0014 - lr: 3.8152e-05\n",
      "\n",
      "Epoch 33: LearningRateScheduler setting learning rate to 3.433683820292515e-05.\n",
      "Epoch 33/40\n",
      "156/156 [==============================] - 9s 55ms/step - loss: 1.8348e-04 - val_loss: 0.0013 - lr: 3.4337e-05\n",
      "\n",
      "Epoch 34: LearningRateScheduler setting learning rate to 3.090315438263264e-05.\n",
      "Epoch 34/40\n",
      "156/156 [==============================] - 8s 53ms/step - loss: 1.8621e-04 - val_loss: 0.0013 - lr: 3.0903e-05\n",
      "\n",
      "Epoch 35: LearningRateScheduler setting learning rate to 2.7812838944369376e-05.\n",
      "Epoch 35/40\n",
      "156/156 [==============================] - 8s 53ms/step - loss: 2.0673e-04 - val_loss: 0.0013 - lr: 2.7813e-05\n",
      "\n",
      "Epoch 36: LearningRateScheduler setting learning rate to 2.5031555049932436e-05.\n",
      "Epoch 36/40\n",
      "156/156 [==============================] - 8s 54ms/step - loss: 1.5899e-04 - val_loss: 0.0013 - lr: 2.5032e-05\n",
      "\n",
      "Epoch 37: LearningRateScheduler setting learning rate to 2.2528399544939195e-05.\n",
      "Epoch 37/40\n",
      "156/156 [==============================] - 8s 52ms/step - loss: 1.7301e-04 - val_loss: 0.0013 - lr: 2.2528e-05\n",
      "\n",
      "Epoch 38: LearningRateScheduler setting learning rate to 2.0275559590445276e-05.\n",
      "Epoch 38/40\n",
      "156/156 [==============================] - 8s 54ms/step - loss: 1.6650e-04 - val_loss: 0.0013 - lr: 2.0276e-05\n",
      "\n",
      "Epoch 39: LearningRateScheduler setting learning rate to 1.824800363140075e-05.\n",
      "Epoch 39/40\n",
      "156/156 [==============================] - 9s 56ms/step - loss: 1.5283e-04 - val_loss: 0.0013 - lr: 1.8248e-05\n",
      "\n",
      "Epoch 40: LearningRateScheduler setting learning rate to 1.6423203268260675e-05.\n",
      "Epoch 40/40\n",
      "156/156 [==============================] - 8s 54ms/step - loss: 1.4508e-04 - val_loss: 0.0013 - lr: 1.6423e-05\n",
      "CPU times: user 6min 39s, sys: 11.5 s, total: 6min 50s\n",
      "Wall time: 5min 47s\n"
     ]
    },
    {
     "data": {
      "text/plain": [
       "<keras.callbacks.History at 0x15324cea80a0>"
      ]
     },
     "execution_count": 219,
     "metadata": {},
     "output_type": "execute_result"
    }
   ],
   "source": [
    "%%time\n",
    "# Learning rate schedule\n",
    "LEARNING_RATE=0.001\n",
    "LEARNING_RATE_EXP_DECAY=0.9\n",
    "lr_decay = tfk.callbacks.LearningRateScheduler(\n",
    "    lambda epoch: LEARNING_RATE * LEARNING_RATE_EXP_DECAY**epoch,\n",
    "    verbose=True)\n",
    "\n",
    "# Tensoboard tracking\n",
    "tb_callback = tf.keras.callbacks.TensorBoard('./logs/DenseNet', update_freq='batch')\n",
    "\n",
    "model_densenet.fit(x = img_train, \n",
    "          y = z_train,\n",
    "          batch_size = 64,\n",
    "          validation_data=(img_test, z_test),\n",
    "          steps_per_epoch=10000//64,\n",
    "          epochs=40,\n",
    "          callbacks=[tb_callback, lr_decay])"
   ]
  },
  {
   "cell_type": "code",
   "execution_count": 220,
   "id": "0eefb110-3af6-4705-932a-31382365ee0c",
   "metadata": {},
   "outputs": [
    {
     "name": "stdout",
     "output_type": "stream",
     "text": [
      "313/313 [==============================] - 5s 12ms/step\n"
     ]
    }
   ],
   "source": [
    "# Get the prediction\n",
    "densenet_preds = model_densenet.predict(img_test)"
   ]
  },
  {
   "cell_type": "code",
   "execution_count": 221,
   "id": "00bd51f8-4c4a-4c2f-905b-0ec76ea91e55",
   "metadata": {},
   "outputs": [
    {
     "data": {
      "image/png": "[encoded data removed]",
      "text/plain": [
       "<Figure size 640x480 with 1 Axes>"
      ]
     },
     "metadata": {},
     "output_type": "display_data"
    }
   ],
   "source": [
    "plt.hist2d(z_test, densenet_preds.squeeze(), 64, range=[[0,0.7],[0,0.7]], cmap='gist_stern'); \n",
    "plt.gca().set_aspect('equal');\n",
    "plt.plot([0,0.7],[0,0.7],color='r')\n",
    "plt.xlabel('Spectroscopic Redshift')\n",
    "plt.ylabel('Predicted Redshift');"
   ]
  },
  {
   "cell_type": "code",
   "execution_count": 222,
   "id": "e17b3a9e-32c3-4560-819f-48caae866a24",
   "metadata": {},
   "outputs": [
    {
     "name": "stdout",
     "output_type": "stream",
     "text": [
      "Prediction bias: 0.0050\n"
     ]
    },
    {
     "data": {
      "text/latex": [
       "$\\sigma MAD$: 0.0235"
      ],
      "text/plain": [
       "<IPython.core.display.Latex object>"
      ]
     },
     "metadata": {},
     "output_type": "display_data"
    },
    {
     "name": "stdout",
     "output_type": "stream",
     "text": [
      "Outlier fraction: 8.11%\n"
     ]
    }
   ],
   "source": [
    "dz, pred_bias, smad, out_frac = metrics(z_test, densenet_preds.squeeze())\n",
    "print_metrics(pred_bias, smad, out_frac)"
   ]
  },
  {
   "cell_type": "code",
   "execution_count": 223,
   "id": "2e774ce4-94da-4303-8a39-91104e4a982f",
   "metadata": {},
   "outputs": [
    {
     "name": "stdout",
     "output_type": "stream",
     "text": [
      "MSE for CNN model: 1.58 e-3\n",
      "MSE for DenseNet121 model: 1.33 e-3\n",
      "0.030199088 0.025328277\n"
     ]
    }
   ],
   "source": [
    "# Compare MSE results\n",
    "from sklearn.metrics import mean_squared_error, mean_absolute_error\n",
    "mse = mean_squared_error(z_test, preds)\n",
    "mse_densenet = mean_squared_error(z_test, densenet_preds)\n",
    "print(f\"MSE for CNN model: {1e3*mse:.2f} e-3\")\n",
    "print(f'MSE for DenseNet121 model: {1e3*mse_densenet:.2f} e-3')\n",
    "print(mean_absolute_error(z_test, preds), mean_absolute_error(z_test, densenet_preds))"
   ]
  },
  {
   "cell_type": "code",
   "execution_count": null,
   "id": "d3b97db4-5d5e-4d33-989d-df9756d81c5c",
   "metadata": {},
   "outputs": [],
   "source": []
  }
 ],
 "metadata": {
  "kernelspec": {
   "display_name": "tensorflow-2.9.0",
   "language": "python",
   "name": "tensorflow-2.9.0"
  },
  "language_info": {
   "codemirror_mode": {
    "name": "ipython",
    "version": 3
   },
   "file_extension": ".py",
   "mimetype": "text/x-python",
   "name": "python",
   "nbconvert_exporter": "python",
   "pygments_lexer": "ipython3",
   "version": "3.9.15"
  },
  "vscode": {
   "interpreter": {
    "hash": "1f6360d0acf45bf0b1d3617497dbdfbcbdfb4334b88a4110538877fe5548438f"
   }
  }
 },
 "nbformat": 4,
 "nbformat_minor": 5
}
