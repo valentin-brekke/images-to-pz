{
 "cells": [
  {
   "cell_type": "code",
   "execution_count": 1,
   "id": "2cebc969-2317-458d-8811-d765df5a2fb3",
   "metadata": {},
   "outputs": [],
   "source": [
    "from run import *"
   ]
  },
  {
   "cell_type": "code",
   "execution_count": 2,
   "id": "7b523f0b-eb73-4d71-814b-bd0332bc2a65",
   "metadata": {},
   "outputs": [
    {
     "name": "stdout",
     "output_type": "stream",
     "text": [
      "Data loaded\n",
      "Data processed\n"
     ]
    }
   ],
   "source": [
    "img_path = '/global/cfs/cdirs/lsst/groups/PZ/valentin_image_data_temp/img_30k.npy'\n",
    "z_path = '/global/cfs/cdirs/lsst/groups/PZ/valentin_image_data_temp/z_30k.npy'\n",
    "\n",
    "img, z = load(img_path, z_path)\n",
    "print(\"Data loaded\")\n",
    "\n",
    "processing(img)\n",
    "print(\"Data processed\")\n",
    "\n",
    "data = split(img, z)"
   ]
  },
  {
   "cell_type": "code",
   "execution_count": 3,
   "id": "27eeded8-c884-49d4-9939-dc4cab510bbf",
   "metadata": {},
   "outputs": [
    {
     "name": "stderr",
     "output_type": "stream",
     "text": [
      "2023-05-15 08:28:51.291765: I tensorflow/core/platform/cpu_feature_guard.cc:193] This TensorFlow binary is optimized with oneAPI Deep Neural Network Library (oneDNN) to use the following CPU instructions in performance-critical operations:  AVX2 FMA\n",
      "To enable them in other operations, rebuild TensorFlow with the appropriate compiler flags.\n",
      "2023-05-15 08:28:51.985866: I tensorflow/core/common_runtime/gpu/gpu_device.cc:1532] Created device /job:localhost/replica:0/task:0/device:GPU:0 with 38219 MB memory:  -> device: 0, name: NVIDIA A100-PCIE-40GB, pci bus id: 0000:c3:00.0, compute capability: 8.0\n"
     ]
    },
    {
     "name": "stdout",
     "output_type": "stream",
     "text": [
      "Epoch 1/20\n"
     ]
    },
    {
     "name": "stderr",
     "output_type": "stream",
     "text": [
      "2023-05-15 08:28:58.542953: I tensorflow/stream_executor/cuda/cuda_dnn.cc:384] Loaded cuDNN version 8302\n",
      "2023-05-15 08:28:59.821785: I tensorflow/stream_executor/cuda/cuda_blas.cc:1786] TensorFloat-32 will be used for the matrix multiplication. This will only be logged once.\n"
     ]
    },
    {
     "name": "stdout",
     "output_type": "stream",
     "text": [
      "234/234 [==============================] - 15s 41ms/step - loss: 0.0242 - val_loss: 0.0023 - lr: 0.0010\n",
      "Epoch 2/20\n",
      "234/234 [==============================] - 9s 35ms/step - loss: 0.0017 - val_loss: 0.0027 - lr: 9.0000e-04\n",
      "Epoch 3/20\n",
      "234/234 [==============================] - 8s 35ms/step - loss: 0.0016 - val_loss: 0.0016 - lr: 8.1000e-04\n",
      "Epoch 4/20\n",
      "234/234 [==============================] - 8s 36ms/step - loss: 0.0014 - val_loss: 0.0015 - lr: 7.2900e-04\n",
      "Epoch 5/20\n",
      "234/234 [==============================] - 8s 36ms/step - loss: 0.0011 - val_loss: 0.0012 - lr: 6.5610e-04\n",
      "Epoch 6/20\n",
      "234/234 [==============================] - 8s 36ms/step - loss: 8.7757e-04 - val_loss: 0.0010 - lr: 5.9049e-04\n",
      "Epoch 7/20\n",
      "234/234 [==============================] - 8s 36ms/step - loss: 7.7850e-04 - val_loss: 0.0016 - lr: 5.3144e-04\n",
      "Epoch 8/20\n",
      "234/234 [==============================] - 8s 36ms/step - loss: 7.5835e-04 - val_loss: 9.0698e-04 - lr: 4.7830e-04\n",
      "Epoch 9/20\n",
      "234/234 [==============================] - 8s 36ms/step - loss: 7.0480e-04 - val_loss: 0.0010 - lr: 4.3047e-04\n",
      "Epoch 10/20\n",
      "234/234 [==============================] - 8s 36ms/step - loss: 6.7982e-04 - val_loss: 8.7941e-04 - lr: 3.8742e-04\n",
      "Epoch 11/20\n",
      "234/234 [==============================] - 8s 36ms/step - loss: 6.1472e-04 - val_loss: 8.8456e-04 - lr: 3.4868e-04\n",
      "Epoch 12/20\n",
      "234/234 [==============================] - 8s 36ms/step - loss: 5.9627e-04 - val_loss: 8.3117e-04 - lr: 3.1381e-04\n",
      "Epoch 13/20\n",
      "234/234 [==============================] - 8s 36ms/step - loss: 5.6481e-04 - val_loss: 8.5112e-04 - lr: 2.8243e-04\n",
      "Epoch 14/20\n",
      "234/234 [==============================] - 8s 36ms/step - loss: 5.2179e-04 - val_loss: 8.3287e-04 - lr: 2.5419e-04\n",
      "Epoch 15/20\n",
      "234/234 [==============================] - 9s 37ms/step - loss: 5.1733e-04 - val_loss: 8.0827e-04 - lr: 2.2877e-04\n",
      "Epoch 16/20\n",
      "234/234 [==============================] - 8s 36ms/step - loss: 4.9659e-04 - val_loss: 8.4633e-04 - lr: 2.0589e-04\n",
      "Epoch 17/20\n",
      "234/234 [==============================] - 8s 36ms/step - loss: 4.7497e-04 - val_loss: 9.6874e-04 - lr: 1.8530e-04\n",
      "Epoch 18/20\n",
      "234/234 [==============================] - 9s 37ms/step - loss: 4.5629e-04 - val_loss: 8.8468e-04 - lr: 1.6677e-04\n",
      "Epoch 19/20\n",
      "234/234 [==============================] - 9s 37ms/step - loss: 4.6166e-04 - val_loss: 9.4672e-04 - lr: 1.5009e-04\n",
      "Epoch 20/20\n",
      "234/234 [==============================] - 8s 36ms/step - loss: 4.2792e-04 - val_loss: 8.4881e-04 - lr: 1.3509e-04\n"
     ]
    }
   ],
   "source": [
    "model = model_tf2()\n",
    "history, model = train(model, 20, data)"
   ]
  },
  {
   "cell_type": "code",
   "execution_count": 4,
   "id": "c82761c0-7f2b-4058-9cb5-91b389746fc5",
   "metadata": {},
   "outputs": [
    {
     "data": {
      "text/plain": [
       "15000"
      ]
     },
     "execution_count": 4,
     "metadata": {},
     "output_type": "execute_result"
    }
   ],
   "source": [
    "len(data['train'][0])"
   ]
  },
  {
   "cell_type": "code",
   "execution_count": 5,
   "id": "3da91648-461a-407b-9b1f-cd4885fc14e4",
   "metadata": {},
   "outputs": [
    {
     "name": "stdout",
     "output_type": "stream",
     "text": [
      "235/235 [==============================] - 2s 6ms/step\n",
      "Prediction bias: 0.0031\n"
     ]
    },
    {
     "data": {
      "text/latex": [
       "$\\sigma MAD$: 0.0160"
      ],
      "text/plain": [
       "<IPython.core.display.Latex object>"
      ]
     },
     "metadata": {},
     "output_type": "display_data"
    },
    {
     "name": "stdout",
     "output_type": "stream",
     "text": [
      "Outlier fraction: 2.80%\n"
     ]
    },
    {
     "data": {
      "image/png": "[encoded data removed]",
      "text/plain": [
       "<Figure size 640x480 with 1 Axes>"
      ]
     },
     "metadata": {},
     "output_type": "display_data"
    }
   ],
   "source": [
    "preds = evaluate(model, data)"
   ]
  }
 ],
 "metadata": {
  "kernelspec": {
   "display_name": "tensorflow-2.9.0",
   "language": "python",
   "name": "tensorflow-2.9.0"
  },
  "language_info": {
   "codemirror_mode": {
    "name": "ipython",
    "version": 3
   },
   "file_extension": ".py",
   "mimetype": "text/x-python",
   "name": "python",
   "nbconvert_exporter": "python",
   "pygments_lexer": "ipython3",
   "version": "3.9.15"
  }
 },
 "nbformat": 4,
 "nbformat_minor": 5
}
